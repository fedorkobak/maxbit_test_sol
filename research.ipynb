{
 "cells": [
  {
   "cell_type": "markdown",
   "id": "5d8bad7e-173a-46cd-9356-5e52d0b276eb",
   "metadata": {},
   "source": [
    "# Исследование"
   ]
  },
  {
   "cell_type": "code",
   "execution_count": 1,
   "id": "eb35c353-f986-45f8-b0d9-2418e7dd11ef",
   "metadata": {},
   "outputs": [],
   "source": [
    "from IPython.display import HTML\n",
    "\n",
    "from tqdm import tqdm\n",
    "\n",
    "import numpy as np\n",
    "import pandas as pd\n",
    "\n",
    "from sklearn import tree\n",
    "from sklearn.preprocessing import OneHotEncoder\n",
    "from sklearn.pipeline import Pipeline\n",
    "from sklearn.model_selection import train_test_split\n",
    "from sklearn.ensemble import RandomForestRegressor\n",
    "from sklearn import model_selection\n",
    "\n",
    "from catboost import CatBoostRegressor\n",
    "\n",
    "import seaborn as sns\n",
    "import matplotlib.pyplot as plt\n",
    "\n",
    "from surprise.prediction_algorithms.slope_one import SlopeOne\n",
    "from surprise.model_selection import cross_validate\n",
    "from surprise.dataset import Dataset\n",
    "from surprise.reader import Reader\n",
    "\n",
    "from surprise.prediction_algorithms.matrix_factorization import (\n",
    "    SVD, SVDpp\n",
    ")\n",
    "from surprise.prediction_algorithms.knns import (\n",
    "    KNNBaseline, KNNBasic, KNNWithMeans, KNNWithZScore\n",
    ")\n",
    "\n",
    "data = pd.read_parquet(\"ml_test_rec_sys.parquet\")"
   ]
  },
  {
   "cell_type": "markdown",
   "id": "2a194e32-ac2d-4cde-a164-478dd926415a",
   "metadata": {
    "jp-MarkdownHeadingCollapsed": true
   },
   "source": [
    "## Изучение данных"
   ]
  },
  {
   "cell_type": "markdown",
   "id": "e665f410-70ee-4f4e-bc15-474224c0214b",
   "metadata": {},
   "source": [
    "Далее представлено несколько колонок полученного набора данных."
   ]
  },
  {
   "cell_type": "code",
   "execution_count": 13,
   "id": "036fdb3a-a2f7-40f4-ae80-4c9d00708cd5",
   "metadata": {},
   "outputs": [
    {
     "data": {
      "text/html": [
       "<div>\n",
       "<style scoped>\n",
       "    .dataframe tbody tr th:only-of-type {\n",
       "        vertical-align: middle;\n",
       "    }\n",
       "\n",
       "    .dataframe tbody tr th {\n",
       "        vertical-align: top;\n",
       "    }\n",
       "\n",
       "    .dataframe thead th {\n",
       "        text-align: right;\n",
       "    }\n",
       "</style>\n",
       "<table border=\"1\" class=\"dataframe\">\n",
       "  <thead>\n",
       "    <tr style=\"text-align: right;\">\n",
       "      <th></th>\n",
       "      <th>UserID</th>\n",
       "      <th>GameTitle</th>\n",
       "      <th>Rating</th>\n",
       "      <th>Age</th>\n",
       "      <th>Gender</th>\n",
       "      <th>Location</th>\n",
       "      <th>Device</th>\n",
       "      <th>PlayTimeOfDay</th>\n",
       "      <th>TotalPlaytimeInHours</th>\n",
       "      <th>PurchaseHistory</th>\n",
       "      <th>InvolvementLevel</th>\n",
       "      <th>UserReview</th>\n",
       "      <th>GameGenre</th>\n",
       "      <th>GameUpdateFrequency</th>\n",
       "      <th>SocialActivity</th>\n",
       "      <th>LoadingTimeInSeconds</th>\n",
       "      <th>GameSettingsPreference</th>\n",
       "    </tr>\n",
       "  </thead>\n",
       "  <tbody>\n",
       "    <tr>\n",
       "      <th>0</th>\n",
       "      <td>user_1</td>\n",
       "      <td>game_1</td>\n",
       "      <td>2</td>\n",
       "      <td>50</td>\n",
       "      <td>Male</td>\n",
       "      <td>North America</td>\n",
       "      <td>Mobile</td>\n",
       "      <td>Night</td>\n",
       "      <td>48</td>\n",
       "      <td>Yes</td>\n",
       "      <td>Beginner</td>\n",
       "      <td>Negative</td>\n",
       "      <td>RPG</td>\n",
       "      <td>Frequent</td>\n",
       "      <td>Active</td>\n",
       "      <td>16</td>\n",
       "      <td>High Graphics</td>\n",
       "    </tr>\n",
       "    <tr>\n",
       "      <th>1</th>\n",
       "      <td>user_1</td>\n",
       "      <td>game_2</td>\n",
       "      <td>5</td>\n",
       "      <td>50</td>\n",
       "      <td>Male</td>\n",
       "      <td>North America</td>\n",
       "      <td>Mobile</td>\n",
       "      <td>Night</td>\n",
       "      <td>48</td>\n",
       "      <td>Yes</td>\n",
       "      <td>Beginner</td>\n",
       "      <td>Negative</td>\n",
       "      <td>Sports</td>\n",
       "      <td>Frequent</td>\n",
       "      <td>Low</td>\n",
       "      <td>30</td>\n",
       "      <td>High Performance</td>\n",
       "    </tr>\n",
       "    <tr>\n",
       "      <th>2</th>\n",
       "      <td>user_1</td>\n",
       "      <td>game_3</td>\n",
       "      <td>2</td>\n",
       "      <td>50</td>\n",
       "      <td>Male</td>\n",
       "      <td>North America</td>\n",
       "      <td>Mobile</td>\n",
       "      <td>Night</td>\n",
       "      <td>48</td>\n",
       "      <td>Yes</td>\n",
       "      <td>Beginner</td>\n",
       "      <td>Negative</td>\n",
       "      <td>Adventure</td>\n",
       "      <td>Occasional</td>\n",
       "      <td>Low</td>\n",
       "      <td>40</td>\n",
       "      <td>High Graphics</td>\n",
       "    </tr>\n",
       "    <tr>\n",
       "      <th>3</th>\n",
       "      <td>user_1</td>\n",
       "      <td>game_4</td>\n",
       "      <td>3</td>\n",
       "      <td>50</td>\n",
       "      <td>Male</td>\n",
       "      <td>North America</td>\n",
       "      <td>Mobile</td>\n",
       "      <td>Night</td>\n",
       "      <td>48</td>\n",
       "      <td>Yes</td>\n",
       "      <td>Beginner</td>\n",
       "      <td>Negative</td>\n",
       "      <td>RPG</td>\n",
       "      <td>Occasional</td>\n",
       "      <td>Moderate</td>\n",
       "      <td>24</td>\n",
       "      <td>High Graphics</td>\n",
       "    </tr>\n",
       "    <tr>\n",
       "      <th>4</th>\n",
       "      <td>user_1</td>\n",
       "      <td>game_5</td>\n",
       "      <td>5</td>\n",
       "      <td>50</td>\n",
       "      <td>Male</td>\n",
       "      <td>North America</td>\n",
       "      <td>Mobile</td>\n",
       "      <td>Night</td>\n",
       "      <td>48</td>\n",
       "      <td>Yes</td>\n",
       "      <td>Beginner</td>\n",
       "      <td>Negative</td>\n",
       "      <td>Action</td>\n",
       "      <td>Occasional</td>\n",
       "      <td>Active</td>\n",
       "      <td>50</td>\n",
       "      <td>Balanced</td>\n",
       "    </tr>\n",
       "  </tbody>\n",
       "</table>\n",
       "</div>"
      ],
      "text/plain": [
       "   UserID GameTitle  Rating  Age Gender       Location  Device PlayTimeOfDay  \\\n",
       "0  user_1    game_1       2   50   Male  North America  Mobile         Night   \n",
       "1  user_1    game_2       5   50   Male  North America  Mobile         Night   \n",
       "2  user_1    game_3       2   50   Male  North America  Mobile         Night   \n",
       "3  user_1    game_4       3   50   Male  North America  Mobile         Night   \n",
       "4  user_1    game_5       5   50   Male  North America  Mobile         Night   \n",
       "\n",
       "   TotalPlaytimeInHours PurchaseHistory InvolvementLevel UserReview  \\\n",
       "0                    48             Yes         Beginner   Negative   \n",
       "1                    48             Yes         Beginner   Negative   \n",
       "2                    48             Yes         Beginner   Negative   \n",
       "3                    48             Yes         Beginner   Negative   \n",
       "4                    48             Yes         Beginner   Negative   \n",
       "\n",
       "   GameGenre GameUpdateFrequency SocialActivity  LoadingTimeInSeconds  \\\n",
       "0        RPG            Frequent         Active                    16   \n",
       "1     Sports            Frequent            Low                    30   \n",
       "2  Adventure          Occasional            Low                    40   \n",
       "3        RPG          Occasional       Moderate                    24   \n",
       "4     Action          Occasional         Active                    50   \n",
       "\n",
       "  GameSettingsPreference  \n",
       "0          High Graphics  \n",
       "1       High Performance  \n",
       "2          High Graphics  \n",
       "3          High Graphics  \n",
       "4               Balanced  "
      ]
     },
     "execution_count": 13,
     "metadata": {},
     "output_type": "execute_result"
    }
   ],
   "source": [
    "data.head()"
   ]
  },
  {
   "cell_type": "markdown",
   "id": "57de2f9d-c0d8-4f16-91bd-de6da42e87c9",
   "metadata": {},
   "source": [
    "Не нашел в репозитории описания данных, поэтому, опишу как я интерпретировал таблицу, для того чтобы читающему было понятнее по какой причине я принял те или иные решения.\n",
    "\n",
    "Удельная запись представляест собой пары комбинаций пользователь-игра и соответсвнно описание пользовательского опыта в той или иной игре."
   ]
  },
  {
   "cell_type": "markdown",
   "id": "ea52f728-292b-42e2-bd17-def73428c816",
   "metadata": {},
   "source": [
    "### Описание колонок"
   ]
  },
  {
   "cell_type": "markdown",
   "id": "26919a3a-db36-47a2-9cf9-45437c180db5",
   "metadata": {},
   "source": [
    "Очевидно что:\n",
    "\n",
    "- `UserID` - уникальный идентификатор пользователя;\n",
    "- `GameTitle` - уникальный идетификатор игры;\n",
    "- `Age` - возраст пользователя;\n",
    "- `Gender` - пол пользователя;\n",
    "- `PurchaseHistory` - если история покупок у этого пользователя;\n",
    "- `GameGenre` - жанр рассматриваемой игры;\n",
    "- `GameUpdateFrequency` - как часто обновляется данная игра;\n",
    "- `GameSettingsPreference` - некоторая особенность игры."
   ]
  },
  {
   "cell_type": "markdown",
   "id": "a47eb126-e24c-47b8-a059-c617a34ab263",
   "metadata": {},
   "source": [
    "Для некоторых колонок не до конца понятно описывают они пользователя (одинаковые в рамках пользоваля), игру (одинаковые в рамках игры) или описывают выбранную комбинацию пользователь игра (то есть потенциально могут быть уникальными вне привязки к пользователю или игре).\n",
    "\n",
    "Так например колонка `Rating` может описывать средний рейтинг по игре или быть отражением того, что так ее оценил пользователь который сопряжен с ней в этой записи.\n",
    "\n",
    "Для того чтобы проверить такие моменты, для каждого пользователя/игры подсчитаем сколько уникальных значений соответсвуют ему в той или иной колонке. В следующей ячейке проводится эта процедура - в результате для каждой колонки поставлено в соответсвие уникальные ли в ней значения по пользователю и по игре."
   ]
  },
  {
   "cell_type": "code",
   "execution_count": 14,
   "id": "203d598e-0225-4b0e-8696-45af895f3e59",
   "metadata": {},
   "outputs": [
    {
     "data": {
      "text/html": [
       "<b>По пользователю</b>"
      ],
      "text/plain": [
       "<IPython.core.display.HTML object>"
      ]
     },
     "metadata": {},
     "output_type": "display_data"
    },
    {
     "data": {
      "text/html": [
       "<div>\n",
       "<style scoped>\n",
       "    .dataframe tbody tr th:only-of-type {\n",
       "        vertical-align: middle;\n",
       "    }\n",
       "\n",
       "    .dataframe tbody tr th {\n",
       "        vertical-align: top;\n",
       "    }\n",
       "\n",
       "    .dataframe thead th {\n",
       "        text-align: right;\n",
       "    }\n",
       "</style>\n",
       "<table border=\"1\" class=\"dataframe\">\n",
       "  <thead>\n",
       "    <tr style=\"text-align: right;\">\n",
       "      <th></th>\n",
       "      <th>По пользователю</th>\n",
       "      <th>По игре</th>\n",
       "    </tr>\n",
       "  </thead>\n",
       "  <tbody>\n",
       "    <tr>\n",
       "      <th>UserID</th>\n",
       "      <td>NaN</td>\n",
       "      <td>Не уникальное</td>\n",
       "    </tr>\n",
       "    <tr>\n",
       "      <th>GameTitle</th>\n",
       "      <td>Не уникальное</td>\n",
       "      <td>NaN</td>\n",
       "    </tr>\n",
       "    <tr>\n",
       "      <th>Rating</th>\n",
       "      <td>Не уникальное</td>\n",
       "      <td>Не уникальное</td>\n",
       "    </tr>\n",
       "    <tr>\n",
       "      <th>Age</th>\n",
       "      <td>Уникальное</td>\n",
       "      <td>Не уникальное</td>\n",
       "    </tr>\n",
       "    <tr>\n",
       "      <th>Gender</th>\n",
       "      <td>Уникальное</td>\n",
       "      <td>Не уникальное</td>\n",
       "    </tr>\n",
       "    <tr>\n",
       "      <th>Location</th>\n",
       "      <td>Уникальное</td>\n",
       "      <td>Не уникальное</td>\n",
       "    </tr>\n",
       "    <tr>\n",
       "      <th>Device</th>\n",
       "      <td>Уникальное</td>\n",
       "      <td>Не уникальное</td>\n",
       "    </tr>\n",
       "    <tr>\n",
       "      <th>PlayTimeOfDay</th>\n",
       "      <td>Уникальное</td>\n",
       "      <td>Не уникальное</td>\n",
       "    </tr>\n",
       "    <tr>\n",
       "      <th>TotalPlaytimeInHours</th>\n",
       "      <td>Уникальное</td>\n",
       "      <td>Не уникальное</td>\n",
       "    </tr>\n",
       "    <tr>\n",
       "      <th>PurchaseHistory</th>\n",
       "      <td>Уникальное</td>\n",
       "      <td>Не уникальное</td>\n",
       "    </tr>\n",
       "    <tr>\n",
       "      <th>InvolvementLevel</th>\n",
       "      <td>Уникальное</td>\n",
       "      <td>Не уникальное</td>\n",
       "    </tr>\n",
       "    <tr>\n",
       "      <th>UserReview</th>\n",
       "      <td>Уникальное</td>\n",
       "      <td>Не уникальное</td>\n",
       "    </tr>\n",
       "    <tr>\n",
       "      <th>GameGenre</th>\n",
       "      <td>Не уникальное</td>\n",
       "      <td>Уникальное</td>\n",
       "    </tr>\n",
       "    <tr>\n",
       "      <th>GameUpdateFrequency</th>\n",
       "      <td>Не уникальное</td>\n",
       "      <td>Уникальное</td>\n",
       "    </tr>\n",
       "    <tr>\n",
       "      <th>SocialActivity</th>\n",
       "      <td>Не уникальное</td>\n",
       "      <td>Уникальное</td>\n",
       "    </tr>\n",
       "    <tr>\n",
       "      <th>LoadingTimeInSeconds</th>\n",
       "      <td>Не уникальное</td>\n",
       "      <td>Уникальное</td>\n",
       "    </tr>\n",
       "    <tr>\n",
       "      <th>GameSettingsPreference</th>\n",
       "      <td>Не уникальное</td>\n",
       "      <td>Уникальное</td>\n",
       "    </tr>\n",
       "  </tbody>\n",
       "</table>\n",
       "</div>"
      ],
      "text/plain": [
       "                       По пользователю        По игре\n",
       "UserID                             NaN  Не уникальное\n",
       "GameTitle                Не уникальное            NaN\n",
       "Rating                   Не уникальное  Не уникальное\n",
       "Age                         Уникальное  Не уникальное\n",
       "Gender                      Уникальное  Не уникальное\n",
       "Location                    Уникальное  Не уникальное\n",
       "Device                      Уникальное  Не уникальное\n",
       "PlayTimeOfDay               Уникальное  Не уникальное\n",
       "TotalPlaytimeInHours        Уникальное  Не уникальное\n",
       "PurchaseHistory             Уникальное  Не уникальное\n",
       "InvolvementLevel            Уникальное  Не уникальное\n",
       "UserReview                  Уникальное  Не уникальное\n",
       "GameGenre                Не уникальное     Уникальное\n",
       "GameUpdateFrequency      Не уникальное     Уникальное\n",
       "SocialActivity           Не уникальное     Уникальное\n",
       "LoadingTimeInSeconds     Не уникальное     Уникальное\n",
       "GameSettingsPreference   Не уникальное     Уникальное"
      ]
     },
     "execution_count": 14,
     "metadata": {},
     "output_type": "execute_result"
    }
   ],
   "source": [
    "display(HTML(\"<b>По пользователю</b>\"))\n",
    "by_user = (\n",
    "    (data.groupby(\"UserID\").nunique() == 1)\n",
    "    .all().replace({True:\"Уникальное\", False:\"Не уникальное\"})\n",
    ")\n",
    "by_game = (\n",
    "    (data.groupby(\"GameTitle\").nunique() == 1)\n",
    "    .all().replace({True:\"Уникальное\", False:\"Не уникальное\"})\n",
    ")\n",
    "pd.DataFrame({\n",
    "    \"По пользователю\" : by_user,\n",
    "    \"По игре\" : by_game\n",
    "}).loc[data.columns]"
   ]
  },
  {
   "cell_type": "markdown",
   "id": "f39de63b-c61b-4894-9e72-0782163db5a0",
   "metadata": {},
   "source": [
    "Можно сделать выводы про следующие колонки:\n",
    "\n",
    "- `Rating` указывает как клиент из записи оценил соовтевующую игру;\n",
    "- `Location` указывает на условно постоянный адрес пользоватля (а не то куда он играл в ту или иную игру);\n",
    "- `Device` указывает на условно постоянный девайс пользователя (а не то каой девайс он исопльзовал для игры);\n",
    "- `PlayTimeOfDay` указывает когда клиент предпочитает играть - уникальный по пользователю;\n",
    "- `TotalPlaytimeInHours` то сколько **всего** играл пользователь во все игры, а не то соколько он играл именно в эту игру;\n",
    "- `InvolvementLevel` - то насколько пользователь вовлечен в игровую платформу в целом а не в конкретную игру;\n",
    "- `UserReview` - отзыв пользователя, видимо ко всей платформе в целом а не к конкретной игре;\n",
    "- `SocialActivity` - не до конца понятно что это за колонка но это какая-то уникальная характеристика игры;\n",
    "- `LoadingTimeInSeconds` - сколько данная игра загружалась, получается что у всех пользователей игра зпускается одинаково быстро."
   ]
  },
  {
   "cell_type": "markdown",
   "id": "2df8ff34-f6cd-4218-b3b2-ea2e40c89a78",
   "metadata": {},
   "source": [
    "**Целевая переменная**\n",
    "\n",
    "Совершенно очевидно, что в данном случае следует использовать переменную `Rating` как целевую переменную (target) так как только она характеризует некотрое свойсво комбинации пользователь/игра, Все остальные переменны характеризую либо некоторого пользователя либо некоторую игру."
   ]
  },
  {
   "cell_type": "markdown",
   "id": "a1f20b3e-9812-4a50-92a8-d656b3575633",
   "metadata": {
    "jp-MarkdownHeadingCollapsed": true
   },
   "source": [
    "## Гипотезы"
   ]
  },
  {
   "cell_type": "markdown",
   "id": "2d9a2114-9f77-4454-bf58-b701b2e463af",
   "metadata": {},
   "source": [
    "### Сопряженность свойсв игры/пользователя"
   ]
  },
  {
   "cell_type": "markdown",
   "id": "0ec20ee2-6ed4-4ddd-83ee-0e069b27c958",
   "metadata": {},
   "source": [
    "Возможно женщинам и мужчинам нравятся разные игровые жанры. Поэтому подсчитаем раличные статистики по рейтингу в сопряженности пола и игрового жанра."
   ]
  },
  {
   "cell_type": "code",
   "execution_count": 15,
   "id": "6fe21dd5-6c3b-44d1-a05a-33a2b151394c",
   "metadata": {},
   "outputs": [
    {
     "data": {
      "text/html": [
       "<b style='font-size: 14px'>Количество наблюдений</b>"
      ],
      "text/plain": [
       "<IPython.core.display.HTML object>"
      ]
     },
     "metadata": {},
     "output_type": "display_data"
    },
    {
     "data": {
      "text/html": [
       "<div>\n",
       "<style scoped>\n",
       "    .dataframe tbody tr th:only-of-type {\n",
       "        vertical-align: middle;\n",
       "    }\n",
       "\n",
       "    .dataframe tbody tr th {\n",
       "        vertical-align: top;\n",
       "    }\n",
       "\n",
       "    .dataframe thead th {\n",
       "        text-align: right;\n",
       "    }\n",
       "</style>\n",
       "<table border=\"1\" class=\"dataframe\">\n",
       "  <thead>\n",
       "    <tr style=\"text-align: right;\">\n",
       "      <th>GameGenre</th>\n",
       "      <th>Action</th>\n",
       "      <th>Adventure</th>\n",
       "      <th>Puzzle</th>\n",
       "      <th>RPG</th>\n",
       "      <th>Simulation</th>\n",
       "      <th>Sports</th>\n",
       "      <th>Strategy</th>\n",
       "    </tr>\n",
       "    <tr>\n",
       "      <th>Gender</th>\n",
       "      <th></th>\n",
       "      <th></th>\n",
       "      <th></th>\n",
       "      <th></th>\n",
       "      <th></th>\n",
       "      <th></th>\n",
       "      <th></th>\n",
       "    </tr>\n",
       "  </thead>\n",
       "  <tbody>\n",
       "    <tr>\n",
       "      <th>Female</th>\n",
       "      <td>2920</td>\n",
       "      <td>4015</td>\n",
       "      <td>1460</td>\n",
       "      <td>2555</td>\n",
       "      <td>2555</td>\n",
       "      <td>3650</td>\n",
       "      <td>1095</td>\n",
       "    </tr>\n",
       "    <tr>\n",
       "      <th>Male</th>\n",
       "      <td>2520</td>\n",
       "      <td>3465</td>\n",
       "      <td>1260</td>\n",
       "      <td>2205</td>\n",
       "      <td>2205</td>\n",
       "      <td>3150</td>\n",
       "      <td>945</td>\n",
       "    </tr>\n",
       "    <tr>\n",
       "      <th>Other</th>\n",
       "      <td>2560</td>\n",
       "      <td>3520</td>\n",
       "      <td>1280</td>\n",
       "      <td>2240</td>\n",
       "      <td>2240</td>\n",
       "      <td>3200</td>\n",
       "      <td>960</td>\n",
       "    </tr>\n",
       "  </tbody>\n",
       "</table>\n",
       "</div>"
      ],
      "text/plain": [
       "GameGenre  Action  Adventure  Puzzle   RPG  Simulation  Sports  Strategy\n",
       "Gender                                                                  \n",
       "Female       2920       4015    1460  2555        2555    3650      1095\n",
       "Male         2520       3465    1260  2205        2205    3150       945\n",
       "Other        2560       3520    1280  2240        2240    3200       960"
      ]
     },
     "metadata": {},
     "output_type": "display_data"
    },
    {
     "data": {
      "text/html": [
       "<b style='font-size: 14px'>Средний рейтинг</b>"
      ],
      "text/plain": [
       "<IPython.core.display.HTML object>"
      ]
     },
     "metadata": {},
     "output_type": "display_data"
    },
    {
     "data": {
      "text/html": [
       "<div>\n",
       "<style scoped>\n",
       "    .dataframe tbody tr th:only-of-type {\n",
       "        vertical-align: middle;\n",
       "    }\n",
       "\n",
       "    .dataframe tbody tr th {\n",
       "        vertical-align: top;\n",
       "    }\n",
       "\n",
       "    .dataframe thead th {\n",
       "        text-align: right;\n",
       "    }\n",
       "</style>\n",
       "<table border=\"1\" class=\"dataframe\">\n",
       "  <thead>\n",
       "    <tr style=\"text-align: right;\">\n",
       "      <th>GameGenre</th>\n",
       "      <th>Action</th>\n",
       "      <th>Adventure</th>\n",
       "      <th>Puzzle</th>\n",
       "      <th>RPG</th>\n",
       "      <th>Simulation</th>\n",
       "      <th>Sports</th>\n",
       "      <th>Strategy</th>\n",
       "    </tr>\n",
       "    <tr>\n",
       "      <th>Gender</th>\n",
       "      <th></th>\n",
       "      <th></th>\n",
       "      <th></th>\n",
       "      <th></th>\n",
       "      <th></th>\n",
       "      <th></th>\n",
       "      <th></th>\n",
       "    </tr>\n",
       "  </thead>\n",
       "  <tbody>\n",
       "    <tr>\n",
       "      <th>Female</th>\n",
       "      <td>2.994178</td>\n",
       "      <td>3.037360</td>\n",
       "      <td>2.939041</td>\n",
       "      <td>2.971820</td>\n",
       "      <td>3.008611</td>\n",
       "      <td>3.003288</td>\n",
       "      <td>3.044749</td>\n",
       "    </tr>\n",
       "    <tr>\n",
       "      <th>Male</th>\n",
       "      <td>2.994841</td>\n",
       "      <td>2.990765</td>\n",
       "      <td>2.949206</td>\n",
       "      <td>3.013605</td>\n",
       "      <td>3.016780</td>\n",
       "      <td>2.984444</td>\n",
       "      <td>3.082540</td>\n",
       "    </tr>\n",
       "    <tr>\n",
       "      <th>Other</th>\n",
       "      <td>3.010937</td>\n",
       "      <td>3.001705</td>\n",
       "      <td>3.013281</td>\n",
       "      <td>2.973214</td>\n",
       "      <td>3.008482</td>\n",
       "      <td>2.992812</td>\n",
       "      <td>2.984375</td>\n",
       "    </tr>\n",
       "  </tbody>\n",
       "</table>\n",
       "</div>"
      ],
      "text/plain": [
       "GameGenre    Action  Adventure    Puzzle       RPG  Simulation    Sports  \\\n",
       "Gender                                                                     \n",
       "Female     2.994178   3.037360  2.939041  2.971820    3.008611  3.003288   \n",
       "Male       2.994841   2.990765  2.949206  3.013605    3.016780  2.984444   \n",
       "Other      3.010937   3.001705  3.013281  2.973214    3.008482  2.992812   \n",
       "\n",
       "GameGenre  Strategy  \n",
       "Gender               \n",
       "Female     3.044749  \n",
       "Male       3.082540  \n",
       "Other      2.984375  "
      ]
     },
     "metadata": {},
     "output_type": "display_data"
    },
    {
     "data": {
      "text/html": [
       "<b style='font-size: 14px'>Доля наблюдений с рейтингом 5</b>"
      ],
      "text/plain": [
       "<IPython.core.display.HTML object>"
      ]
     },
     "metadata": {},
     "output_type": "display_data"
    },
    {
     "data": {
      "text/html": [
       "<div>\n",
       "<style scoped>\n",
       "    .dataframe tbody tr th:only-of-type {\n",
       "        vertical-align: middle;\n",
       "    }\n",
       "\n",
       "    .dataframe tbody tr th {\n",
       "        vertical-align: top;\n",
       "    }\n",
       "\n",
       "    .dataframe thead th {\n",
       "        text-align: right;\n",
       "    }\n",
       "</style>\n",
       "<table border=\"1\" class=\"dataframe\">\n",
       "  <thead>\n",
       "    <tr style=\"text-align: right;\">\n",
       "      <th>GameGenre</th>\n",
       "      <th>Action</th>\n",
       "      <th>Adventure</th>\n",
       "      <th>Puzzle</th>\n",
       "      <th>RPG</th>\n",
       "      <th>Simulation</th>\n",
       "      <th>Sports</th>\n",
       "      <th>Strategy</th>\n",
       "    </tr>\n",
       "    <tr>\n",
       "      <th>Gender</th>\n",
       "      <th></th>\n",
       "      <th></th>\n",
       "      <th></th>\n",
       "      <th></th>\n",
       "      <th></th>\n",
       "      <th></th>\n",
       "      <th></th>\n",
       "    </tr>\n",
       "  </thead>\n",
       "  <tbody>\n",
       "    <tr>\n",
       "      <th>Female</th>\n",
       "      <td>0.198630</td>\n",
       "      <td>0.201743</td>\n",
       "      <td>0.192466</td>\n",
       "      <td>0.199609</td>\n",
       "      <td>0.199217</td>\n",
       "      <td>0.200548</td>\n",
       "      <td>0.207306</td>\n",
       "    </tr>\n",
       "    <tr>\n",
       "      <th>Male</th>\n",
       "      <td>0.194444</td>\n",
       "      <td>0.194228</td>\n",
       "      <td>0.184921</td>\n",
       "      <td>0.200000</td>\n",
       "      <td>0.205896</td>\n",
       "      <td>0.193968</td>\n",
       "      <td>0.220106</td>\n",
       "    </tr>\n",
       "    <tr>\n",
       "      <th>Other</th>\n",
       "      <td>0.202734</td>\n",
       "      <td>0.203693</td>\n",
       "      <td>0.204687</td>\n",
       "      <td>0.194643</td>\n",
       "      <td>0.209375</td>\n",
       "      <td>0.194062</td>\n",
       "      <td>0.194792</td>\n",
       "    </tr>\n",
       "  </tbody>\n",
       "</table>\n",
       "</div>"
      ],
      "text/plain": [
       "GameGenre    Action  Adventure    Puzzle       RPG  Simulation    Sports  \\\n",
       "Gender                                                                     \n",
       "Female     0.198630   0.201743  0.192466  0.199609    0.199217  0.200548   \n",
       "Male       0.194444   0.194228  0.184921  0.200000    0.205896  0.193968   \n",
       "Other      0.202734   0.203693  0.204687  0.194643    0.209375  0.194062   \n",
       "\n",
       "GameGenre  Strategy  \n",
       "Gender               \n",
       "Female     0.207306  \n",
       "Male       0.220106  \n",
       "Other      0.194792  "
      ]
     },
     "metadata": {},
     "output_type": "display_data"
    }
   ],
   "source": [
    "my_gb = data.groupby([\"Gender\", \"GameGenre\"])\n",
    "\n",
    "display(HTML(\"<b style='font-size: 14px'>Количество наблюдений</b>\"))\n",
    "display(my_gb[\"Rating\"].count().unstack())\n",
    "display(HTML(\"<b style='font-size: 14px'>Средний рейтинг</b>\"))\n",
    "display(my_gb[\"Rating\"].mean().unstack())\n",
    "display(HTML(\"<b style='font-size: 14px'>Доля наблюдений с рейтингом 5</b>\"))\n",
    "display(my_gb[\"Rating\"].apply(lambda sub_col: (sub_col > 4).mean()).unstack())"
   ]
  },
  {
   "cell_type": "markdown",
   "id": "8cd2089f-c21e-4a7e-94d1-e44f4ae23d05",
   "metadata": {},
   "source": [
    "Можно подумать, что мобильные платформы не такие производительные как стационарные поэтому стоит перепроверить может не стоит на мобилы рекомендовать высокопроизводительные игры. Закономерностей не обнаружено.  "
   ]
  },
  {
   "cell_type": "code",
   "execution_count": 16,
   "id": "468a55aa-aa99-4f37-bd5b-3c8682f345fb",
   "metadata": {},
   "outputs": [
    {
     "data": {
      "text/html": [
       "<b style='font-size: 14px'>Количество наблюдений</b>"
      ],
      "text/plain": [
       "<IPython.core.display.HTML object>"
      ]
     },
     "metadata": {},
     "output_type": "display_data"
    },
    {
     "data": {
      "text/html": [
       "<div>\n",
       "<style scoped>\n",
       "    .dataframe tbody tr th:only-of-type {\n",
       "        vertical-align: middle;\n",
       "    }\n",
       "\n",
       "    .dataframe tbody tr th {\n",
       "        vertical-align: top;\n",
       "    }\n",
       "\n",
       "    .dataframe thead th {\n",
       "        text-align: right;\n",
       "    }\n",
       "</style>\n",
       "<table border=\"1\" class=\"dataframe\">\n",
       "  <thead>\n",
       "    <tr style=\"text-align: right;\">\n",
       "      <th>Device</th>\n",
       "      <th>Console</th>\n",
       "      <th>Mobile</th>\n",
       "      <th>PC</th>\n",
       "    </tr>\n",
       "    <tr>\n",
       "      <th>GameSettingsPreference</th>\n",
       "      <th></th>\n",
       "      <th></th>\n",
       "      <th></th>\n",
       "    </tr>\n",
       "  </thead>\n",
       "  <tbody>\n",
       "    <tr>\n",
       "      <th>Balanced</th>\n",
       "      <td>3924</td>\n",
       "      <td>4032</td>\n",
       "      <td>4044</td>\n",
       "    </tr>\n",
       "    <tr>\n",
       "      <th>High Graphics</th>\n",
       "      <td>7194</td>\n",
       "      <td>7392</td>\n",
       "      <td>7414</td>\n",
       "    </tr>\n",
       "    <tr>\n",
       "      <th>High Performance</th>\n",
       "      <td>5232</td>\n",
       "      <td>5376</td>\n",
       "      <td>5392</td>\n",
       "    </tr>\n",
       "  </tbody>\n",
       "</table>\n",
       "</div>"
      ],
      "text/plain": [
       "Device                  Console  Mobile    PC\n",
       "GameSettingsPreference                       \n",
       "Balanced                   3924    4032  4044\n",
       "High Graphics              7194    7392  7414\n",
       "High Performance           5232    5376  5392"
      ]
     },
     "metadata": {},
     "output_type": "display_data"
    },
    {
     "data": {
      "text/html": [
       "<b style='font-size: 14px'>Средний рейтинг</b>"
      ],
      "text/plain": [
       "<IPython.core.display.HTML object>"
      ]
     },
     "metadata": {},
     "output_type": "display_data"
    },
    {
     "data": {
      "text/html": [
       "<div>\n",
       "<style scoped>\n",
       "    .dataframe tbody tr th:only-of-type {\n",
       "        vertical-align: middle;\n",
       "    }\n",
       "\n",
       "    .dataframe tbody tr th {\n",
       "        vertical-align: top;\n",
       "    }\n",
       "\n",
       "    .dataframe thead th {\n",
       "        text-align: right;\n",
       "    }\n",
       "</style>\n",
       "<table border=\"1\" class=\"dataframe\">\n",
       "  <thead>\n",
       "    <tr style=\"text-align: right;\">\n",
       "      <th>Device</th>\n",
       "      <th>Console</th>\n",
       "      <th>Mobile</th>\n",
       "      <th>PC</th>\n",
       "    </tr>\n",
       "    <tr>\n",
       "      <th>GameSettingsPreference</th>\n",
       "      <th></th>\n",
       "      <th></th>\n",
       "      <th></th>\n",
       "    </tr>\n",
       "  </thead>\n",
       "  <tbody>\n",
       "    <tr>\n",
       "      <th>Balanced</th>\n",
       "      <td>2.994139</td>\n",
       "      <td>3.001984</td>\n",
       "      <td>3.010386</td>\n",
       "    </tr>\n",
       "    <tr>\n",
       "      <th>High Graphics</th>\n",
       "      <td>2.981790</td>\n",
       "      <td>3.021645</td>\n",
       "      <td>3.004181</td>\n",
       "    </tr>\n",
       "    <tr>\n",
       "      <th>High Performance</th>\n",
       "      <td>2.959098</td>\n",
       "      <td>2.989955</td>\n",
       "      <td>3.036165</td>\n",
       "    </tr>\n",
       "  </tbody>\n",
       "</table>\n",
       "</div>"
      ],
      "text/plain": [
       "Device                   Console    Mobile        PC\n",
       "GameSettingsPreference                              \n",
       "Balanced                2.994139  3.001984  3.010386\n",
       "High Graphics           2.981790  3.021645  3.004181\n",
       "High Performance        2.959098  2.989955  3.036165"
      ]
     },
     "metadata": {},
     "output_type": "display_data"
    },
    {
     "data": {
      "text/html": [
       "<b style='font-size: 14px'>Доля наблюдений с рейтингом 5</b>"
      ],
      "text/plain": [
       "<IPython.core.display.HTML object>"
      ]
     },
     "metadata": {},
     "output_type": "display_data"
    },
    {
     "data": {
      "text/html": [
       "<div>\n",
       "<style scoped>\n",
       "    .dataframe tbody tr th:only-of-type {\n",
       "        vertical-align: middle;\n",
       "    }\n",
       "\n",
       "    .dataframe tbody tr th {\n",
       "        vertical-align: top;\n",
       "    }\n",
       "\n",
       "    .dataframe thead th {\n",
       "        text-align: right;\n",
       "    }\n",
       "</style>\n",
       "<table border=\"1\" class=\"dataframe\">\n",
       "  <thead>\n",
       "    <tr style=\"text-align: right;\">\n",
       "      <th>Device</th>\n",
       "      <th>Console</th>\n",
       "      <th>Mobile</th>\n",
       "      <th>PC</th>\n",
       "    </tr>\n",
       "    <tr>\n",
       "      <th>GameSettingsPreference</th>\n",
       "      <th></th>\n",
       "      <th></th>\n",
       "      <th></th>\n",
       "    </tr>\n",
       "  </thead>\n",
       "  <tbody>\n",
       "    <tr>\n",
       "      <th>Balanced</th>\n",
       "      <td>0.200306</td>\n",
       "      <td>0.200893</td>\n",
       "      <td>0.199060</td>\n",
       "    </tr>\n",
       "    <tr>\n",
       "      <th>High Graphics</th>\n",
       "      <td>0.194746</td>\n",
       "      <td>0.202922</td>\n",
       "      <td>0.197194</td>\n",
       "    </tr>\n",
       "    <tr>\n",
       "      <th>High Performance</th>\n",
       "      <td>0.189220</td>\n",
       "      <td>0.201079</td>\n",
       "      <td>0.210497</td>\n",
       "    </tr>\n",
       "  </tbody>\n",
       "</table>\n",
       "</div>"
      ],
      "text/plain": [
       "Device                   Console    Mobile        PC\n",
       "GameSettingsPreference                              \n",
       "Balanced                0.200306  0.200893  0.199060\n",
       "High Graphics           0.194746  0.202922  0.197194\n",
       "High Performance        0.189220  0.201079  0.210497"
      ]
     },
     "metadata": {},
     "output_type": "display_data"
    }
   ],
   "source": [
    "my_gb = data.groupby([\"GameSettingsPreference\", \"Device\"])\n",
    "\n",
    "display(HTML(\"<b style='font-size: 14px'>Количество наблюдений</b>\"))\n",
    "display(my_gb[\"Rating\"].count().unstack())\n",
    "display(HTML(\"<b style='font-size: 14px'>Средний рейтинг</b>\"))\n",
    "display(my_gb[\"Rating\"].mean().unstack())\n",
    "display(HTML(\"<b style='font-size: 14px'>Доля наблюдений с рейтингом 5</b>\"))\n",
    "display(my_gb[\"Rating\"].apply(lambda sub_col: (sub_col > 4).mean()).unstack())"
   ]
  },
  {
   "cell_type": "markdown",
   "id": "18503ebb-df0c-4bbf-8002-a6b996d415e9",
   "metadata": {},
   "source": [
    "### Решающее дерево"
   ]
  },
  {
   "cell_type": "markdown",
   "id": "bec36920-dd7f-4c9e-a66f-f6914a5e96f2",
   "metadata": {},
   "source": [
    "Предположения опирающиеся на бизнес смысл переменных не дают никакого результата. Пойдем от обратного. Попробуем построить простенькую, легко интерпретируемую модельку и посмотрим на результат. Возьмем, например, не глубокое решающее дерево и попробуем из его решений выловить закономерности. В следующей ячейке подогнано и визуализировано решающее дерево. Похоже, анализ среднего рейтинга нидает никакого внятного результата."
   ]
  },
  {
   "cell_type": "code",
   "execution_count": 17,
   "id": "63488932-4443-459e-bd5b-23a30b5b7b17",
   "metadata": {},
   "outputs": [
    {
     "data": {
      "image/png": "[encoded data removed]",
      "text/plain": [
       "<Figure size 1500x1500 with 1 Axes>"
      ]
     },
     "metadata": {},
     "output_type": "display_data"
    }
   ],
   "source": [
    "X = data.drop([\"UserID\", \"GameTitle\", \"Rating\"], axis = 1)\n",
    "X = pd.get_dummies(X, drop_first=True)\n",
    "y = data[\"Rating\"]\n",
    "\n",
    "clf = tree.DecisionTreeRegressor(max_leaf_nodes = 10)\n",
    "clf.fit(X, y)\n",
    "\n",
    "plt.figure(figsize = [15,15])\n",
    "tree.plot_tree(clf, feature_names=X.columns)\n",
    "plt.show()"
   ]
  },
  {
   "cell_type": "markdown",
   "id": "ff9a0331-0072-44de-8bcd-52580cb5d965",
   "metadata": {},
   "source": [
    "### Предпочтения пользователя\n",
    "\n",
    "Предположим, пользователь играет не первый день (выборка это допускает). Тогда, ему рационально подсовывать игры похожие на те которые раньше он оценивал хорошо."
   ]
  },
  {
   "cell_type": "markdown",
   "id": "cb697655-3efc-465d-b11b-1e2716a9b044",
   "metadata": {},
   "source": [
    "В кочестве примера того, что я имею ввиду рассмотрим средние рейтинги каждого пользователя играм по требованиям игры. Далее представлено как игры разной требовательности в среднем оценивали первый и второй пользователи. Видно, что первый пользователь предпочитает игры которые шустро запускаются на его устройсве. А второй любит игры в которых красивая графика. Так же в контесте именно этой переменной, стоит обратить внимание, что \"Balanced\" игры занимают промежуточное состояние."
   ]
  },
  {
   "cell_type": "code",
   "execution_count": 18,
   "id": "82839822-15da-440a-a70d-12e52a548218",
   "metadata": {},
   "outputs": [
    {
     "data": {
      "text/html": [
       "<div>\n",
       "<style scoped>\n",
       "    .dataframe tbody tr th:only-of-type {\n",
       "        vertical-align: middle;\n",
       "    }\n",
       "\n",
       "    .dataframe tbody tr th {\n",
       "        vertical-align: top;\n",
       "    }\n",
       "\n",
       "    .dataframe thead th {\n",
       "        text-align: right;\n",
       "    }\n",
       "</style>\n",
       "<table border=\"1\" class=\"dataframe\">\n",
       "  <thead>\n",
       "    <tr style=\"text-align: right;\">\n",
       "      <th>UserID</th>\n",
       "      <th>user_1</th>\n",
       "      <th>user_2</th>\n",
       "    </tr>\n",
       "    <tr>\n",
       "      <th>GameSettingsPreference</th>\n",
       "      <th></th>\n",
       "      <th></th>\n",
       "    </tr>\n",
       "  </thead>\n",
       "  <tbody>\n",
       "    <tr>\n",
       "      <th>High Graphics</th>\n",
       "      <td>2.772727</td>\n",
       "      <td>3.227273</td>\n",
       "    </tr>\n",
       "    <tr>\n",
       "      <th>Balanced</th>\n",
       "      <td>3.083333</td>\n",
       "      <td>3.166667</td>\n",
       "    </tr>\n",
       "    <tr>\n",
       "      <th>High Performance</th>\n",
       "      <td>3.500000</td>\n",
       "      <td>2.312500</td>\n",
       "    </tr>\n",
       "  </tbody>\n",
       "</table>\n",
       "</div>"
      ],
      "text/plain": [
       "UserID                    user_1    user_2\n",
       "GameSettingsPreference                    \n",
       "High Graphics           2.772727  3.227273\n",
       "Balanced                3.083333  3.166667\n",
       "High Performance        3.500000  2.312500"
      ]
     },
     "execution_count": 18,
     "metadata": {},
     "output_type": "execute_result"
    }
   ],
   "source": [
    "data.groupby(\n",
    "    [\"GameSettingsPreference\", \"UserID\"]\n",
    ")[\"Rating\"].mean().unstack().loc[\n",
    "    [\"High Graphics\", \"Balanced\", \"High Performance\"]\n",
    "][[\"user_1\", \"user_2\"]]"
   ]
  },
  {
   "cell_type": "markdown",
   "id": "3383c997-0ae7-485b-abeb-b5ee8a7be074",
   "metadata": {},
   "source": [
    "Теперь, попробуем каждому пользователю поставить в сооветсвие тот `GameSettingsPreference` который ему наилучшим образом подходит - получится уже некоторая характеритика пользователя. Поставим в сооветсвие предпочтениям пользователя относительно производительностей игр в которые он играл производетельности игр которые мы потенциально можем ему рекомендовать. "
   ]
  },
  {
   "cell_type": "code",
   "execution_count": 19,
   "id": "1621b348-a6d7-4832-ac6f-0d20eacfadc1",
   "metadata": {},
   "outputs": [
    {
     "data": {
      "text/html": [
       "<b style='font-size: 14px'>Количество наблюдений</b>"
      ],
      "text/plain": [
       "<IPython.core.display.HTML object>"
      ]
     },
     "metadata": {},
     "output_type": "display_data"
    },
    {
     "data": {
      "text/html": [
       "<div>\n",
       "<style scoped>\n",
       "    .dataframe tbody tr th:only-of-type {\n",
       "        vertical-align: middle;\n",
       "    }\n",
       "\n",
       "    .dataframe tbody tr th {\n",
       "        vertical-align: top;\n",
       "    }\n",
       "\n",
       "    .dataframe thead th {\n",
       "        text-align: right;\n",
       "    }\n",
       "</style>\n",
       "<table border=\"1\" class=\"dataframe\">\n",
       "  <thead>\n",
       "    <tr style=\"text-align: right;\">\n",
       "      <th>GameSettingsPreference</th>\n",
       "      <th>Balanced</th>\n",
       "      <th>High Graphics</th>\n",
       "      <th>High Performance</th>\n",
       "    </tr>\n",
       "    <tr>\n",
       "      <th>u_GameSettingsPreference</th>\n",
       "      <th></th>\n",
       "      <th></th>\n",
       "      <th></th>\n",
       "    </tr>\n",
       "  </thead>\n",
       "  <tbody>\n",
       "    <tr>\n",
       "      <th>Balanced</th>\n",
       "      <td>4164</td>\n",
       "      <td>7634</td>\n",
       "      <td>5552</td>\n",
       "    </tr>\n",
       "    <tr>\n",
       "      <th>High Graphics</th>\n",
       "      <td>3912</td>\n",
       "      <td>7172</td>\n",
       "      <td>5216</td>\n",
       "    </tr>\n",
       "    <tr>\n",
       "      <th>High Performance</th>\n",
       "      <td>3924</td>\n",
       "      <td>7194</td>\n",
       "      <td>5232</td>\n",
       "    </tr>\n",
       "  </tbody>\n",
       "</table>\n",
       "</div>"
      ],
      "text/plain": [
       "GameSettingsPreference    Balanced  High Graphics  High Performance\n",
       "u_GameSettingsPreference                                           \n",
       "Balanced                      4164           7634              5552\n",
       "High Graphics                 3912           7172              5216\n",
       "High Performance              3924           7194              5232"
      ]
     },
     "metadata": {},
     "output_type": "display_data"
    },
    {
     "data": {
      "text/html": [
       "<b style='font-size: 14px'>Средний рейтинг</b>"
      ],
      "text/plain": [
       "<IPython.core.display.HTML object>"
      ]
     },
     "metadata": {},
     "output_type": "display_data"
    },
    {
     "data": {
      "text/html": [
       "<div>\n",
       "<style scoped>\n",
       "    .dataframe tbody tr th:only-of-type {\n",
       "        vertical-align: middle;\n",
       "    }\n",
       "\n",
       "    .dataframe tbody tr th {\n",
       "        vertical-align: top;\n",
       "    }\n",
       "\n",
       "    .dataframe thead th {\n",
       "        text-align: right;\n",
       "    }\n",
       "</style>\n",
       "<table border=\"1\" class=\"dataframe\">\n",
       "  <thead>\n",
       "    <tr style=\"text-align: right;\">\n",
       "      <th>GameSettingsPreference</th>\n",
       "      <th>Balanced</th>\n",
       "      <th>High Graphics</th>\n",
       "      <th>High Performance</th>\n",
       "    </tr>\n",
       "    <tr>\n",
       "      <th>u_GameSettingsPreference</th>\n",
       "      <th></th>\n",
       "      <th></th>\n",
       "      <th></th>\n",
       "    </tr>\n",
       "  </thead>\n",
       "  <tbody>\n",
       "    <tr>\n",
       "      <th>Balanced</th>\n",
       "      <td>3.367915</td>\n",
       "      <td>2.903589</td>\n",
       "      <td>2.864733</td>\n",
       "    </tr>\n",
       "    <tr>\n",
       "      <th>High Graphics</th>\n",
       "      <td>2.747188</td>\n",
       "      <td>3.231177</td>\n",
       "      <td>2.801572</td>\n",
       "    </tr>\n",
       "    <tr>\n",
       "      <th>High Performance</th>\n",
       "      <td>2.868502</td>\n",
       "      <td>2.880178</td>\n",
       "      <td>3.327408</td>\n",
       "    </tr>\n",
       "  </tbody>\n",
       "</table>\n",
       "</div>"
      ],
      "text/plain": [
       "GameSettingsPreference    Balanced  High Graphics  High Performance\n",
       "u_GameSettingsPreference                                           \n",
       "Balanced                  3.367915       2.903589          2.864733\n",
       "High Graphics             2.747188       3.231177          2.801572\n",
       "High Performance          2.868502       2.880178          3.327408"
      ]
     },
     "metadata": {},
     "output_type": "display_data"
    },
    {
     "data": {
      "text/html": [
       "<b style='font-size: 14px'>Доля наблюдений с рейтингом 5</b>"
      ],
      "text/plain": [
       "<IPython.core.display.HTML object>"
      ]
     },
     "metadata": {},
     "output_type": "display_data"
    },
    {
     "data": {
      "text/html": [
       "<div>\n",
       "<style scoped>\n",
       "    .dataframe tbody tr th:only-of-type {\n",
       "        vertical-align: middle;\n",
       "    }\n",
       "\n",
       "    .dataframe tbody tr th {\n",
       "        vertical-align: top;\n",
       "    }\n",
       "\n",
       "    .dataframe thead th {\n",
       "        text-align: right;\n",
       "    }\n",
       "</style>\n",
       "<table border=\"1\" class=\"dataframe\">\n",
       "  <thead>\n",
       "    <tr style=\"text-align: right;\">\n",
       "      <th>GameSettingsPreference</th>\n",
       "      <th>Balanced</th>\n",
       "      <th>High Graphics</th>\n",
       "      <th>High Performance</th>\n",
       "    </tr>\n",
       "    <tr>\n",
       "      <th>u_GameSettingsPreference</th>\n",
       "      <th></th>\n",
       "      <th></th>\n",
       "      <th></th>\n",
       "    </tr>\n",
       "  </thead>\n",
       "  <tbody>\n",
       "    <tr>\n",
       "      <th>Balanced</th>\n",
       "      <td>0.272574</td>\n",
       "      <td>0.178150</td>\n",
       "      <td>0.178134</td>\n",
       "    </tr>\n",
       "    <tr>\n",
       "      <th>High Graphics</th>\n",
       "      <td>0.152352</td>\n",
       "      <td>0.246375</td>\n",
       "      <td>0.151265</td>\n",
       "    </tr>\n",
       "    <tr>\n",
       "      <th>High Performance</th>\n",
       "      <td>0.170744</td>\n",
       "      <td>0.171810</td>\n",
       "      <td>0.272936</td>\n",
       "    </tr>\n",
       "  </tbody>\n",
       "</table>\n",
       "</div>"
      ],
      "text/plain": [
       "GameSettingsPreference    Balanced  High Graphics  High Performance\n",
       "u_GameSettingsPreference                                           \n",
       "Balanced                  0.272574       0.178150          0.178134\n",
       "High Graphics             0.152352       0.246375          0.151265\n",
       "High Performance          0.170744       0.171810          0.272936"
      ]
     },
     "metadata": {},
     "output_type": "display_data"
    }
   ],
   "source": [
    "temp = data.copy()\n",
    "\n",
    "u_GameSettingsPreference = data.groupby([\"UserID\"])[[\n",
    "    \"GameSettingsPreference\",\n",
    "    \"Rating\"\n",
    "]].apply(\n",
    "    lambda sub:\n",
    "        sub.groupby(\"GameSettingsPreference\")[\"Rating\"].mean().idxmax()\n",
    ")\n",
    "u_GameSettingsPreference.name = \"u_GameSettingsPreference\"\n",
    "temp = pd.merge(\n",
    "    temp,\n",
    "    u_GameSettingsPreference,\n",
    "    left_on=\"UserID\",\n",
    "    right_index=True\n",
    ")\n",
    "\n",
    "my_gb = temp.groupby([\"u_GameSettingsPreference\", \"GameSettingsPreference\"])\n",
    "\n",
    "display(HTML(\"<b style='font-size: 14px'>Количество наблюдений</b>\"))\n",
    "display(my_gb[\"Rating\"].count().unstack())\n",
    "display(HTML(\"<b style='font-size: 14px'>Средний рейтинг</b>\"))\n",
    "display(my_gb[\"Rating\"].mean().unstack())\n",
    "display(HTML(\"<b style='font-size: 14px'>Доля наблюдений с рейтингом 5</b>\"))\n",
    "display(my_gb[\"Rating\"].apply(lambda sub_col: (sub_col > 4).mean()).unstack())"
   ]
  },
  {
   "cell_type": "markdown",
   "id": "124e5336-6a6e-4ea8-8dd4-0ac9a05f4d2c",
   "metadata": {},
   "source": [
    "На главных диоганалях некоторых из табличек наметился некоторый рост статистик описывающих шанс того что пользователь поставит рейтинг той или иной игре повыше. Уже что-то, но, конечно, такой подход серьезно подвержен переобучению, поэтому самые попрулярные для того или иного пользователя виды игр можно подбирать на одной подвыборке а оценивать насколько эти игры популярны у того или иного пользователя следует на тестовой выборке."
   ]
  },
  {
   "cell_type": "markdown",
   "id": "a3aa5da9-6d35-48e9-98f6-7816cefdec5b",
   "metadata": {},
   "source": [
    "Для каждой комбинации пользователь/игра посмотрим сооветсвуют ли характеристики данной игры той тем значениям характеристик у которых, по этому пользователю, наблюдалась лучшая средняя оценка. При том, оценивать какое значение характеритики больше всего нравилось пользователю будем на тренирововчной выборке а результат подсчитаем так-же - на валидационной."
   ]
  },
  {
   "cell_type": "code",
   "execution_count": 20,
   "id": "292099e7-1041-4b5c-806c-e2626f6d90c7",
   "metadata": {},
   "outputs": [
    {
     "data": {
      "image/png": "[encoded data removed]",
      "text/plain": [
       "<Figure size 1000x300 with 2 Axes>"
      ]
     },
     "metadata": {},
     "output_type": "display_data"
    },
    {
     "data": {
      "image/png": "[encoded data removed]",
      "text/plain": [
       "<Figure size 1000x300 with 2 Axes>"
      ]
     },
     "metadata": {},
     "output_type": "display_data"
    },
    {
     "data": {
      "image/png": "[encoded data removed]",
      "text/plain": [
       "<Figure size 1000x300 with 2 Axes>"
      ]
     },
     "metadata": {},
     "output_type": "display_data"
    },
    {
     "data": {
      "image/png": "[encoded data removed]",
      "text/plain": [
       "<Figure size 1000x300 with 2 Axes>"
      ]
     },
     "metadata": {},
     "output_type": "display_data"
    }
   ],
   "source": [
    "X = data.drop(\"Rating\", axis = 1)\n",
    "y = data[\"Rating\"]\n",
    "\n",
    "# разбиение на test/train\n",
    "X_train, X_test, y_train, y_test = train_test_split(\n",
    "    X,y, train_size = 0.8, stratify=X[\"UserID\"], random_state=10\n",
    ")\n",
    "\n",
    "def get_highest_mean_rating(sub_frame):\n",
    "    '''\n",
    "        Для переменных переданного sub_frame\n",
    "        вернуть лучшие категории в смысле\n",
    "        наибольшего среднего значения y_train\n",
    "    '''\n",
    "    return pd.Series({\n",
    "        col:y_train.groupby(sub_frame[col]).mean().idxmax()\n",
    "        for col in sub_frame\n",
    "    })\n",
    "\n",
    "# ставим в соответсвие те значения категориальных\n",
    "# характеристик игр, которые пользователям нравились\n",
    "# больше всего\n",
    "best_cat_for_user = X_train.groupby(\"UserID\")[[\n",
    "    'GameGenre', \n",
    "    'GameUpdateFrequency',\n",
    "    'SocialActivity', \n",
    "    'GameSettingsPreference'\n",
    "]].apply(get_highest_mean_rating)\n",
    "\n",
    "# а теперь растягиваем это в исхходную размерность\n",
    "# набора данных\n",
    "best_cat_for_user = (\n",
    "    data[[\"UserID\", \"GameTitle\"]]\n",
    "    .join(best_cat_for_user, on=\"UserID\")\n",
    "    .drop([\"UserID\", \"GameTitle\"], axis = 1)\n",
    ")\n",
    "# и получаем бинарную переменную которая указыват на то\n",
    "# соответсвует ли данная метрика\n",
    "temp = data[best_cat_for_user.columns] == best_cat_for_user\n",
    "\n",
    "temp_test = temp.loc[y_test.index].groupby(y_test).mean()\n",
    "temp_train = temp.loc[y_train.index].groupby(y_train).mean()\n",
    "\n",
    "for c in temp_train:\n",
    "    \n",
    "    plt.figure(figsize = [10, 3])\n",
    "    plt.suptitle(c)\n",
    "    \n",
    "    plt.subplot(121)\n",
    "    plt.title(\"Train\")\n",
    "    sns.barplot(data=temp_train, x=temp_train.index, y=c)\n",
    "    plt.ylabel(\"Доля совпадений\")\n",
    "    plt.subplot(122)\n",
    "    plt.title(\"Test\")\n",
    "    sns.barplot(data=temp_test, x=temp_test.index, y=c)\n",
    "    plt.ylabel(\"Доля совпадений\")"
   ]
  },
  {
   "cell_type": "markdown",
   "id": "3f3aec59-43e3-42b9-a115-86678f9bc34a",
   "metadata": {},
   "source": [
    "В релультате получается что на тренировочноый выборке различие оцень яркое, а на валидационной нет никакого. Получается весь эффект обусловлен феноменоменом переобучения и за ним не стоит реальной закономерности."
   ]
  },
  {
   "cell_type": "markdown",
   "id": "9aa845d7-f0a6-4223-aaed-81de2407ccfc",
   "metadata": {},
   "source": [
    "## Модели\n",
    "\n",
    "Подготовим разбивку test/train которая будет нам полездна при валидации финальных алгоритмов. Разбивка сделана так, чтобы каждый пользователь в раной степени был представлен и в test и в train. \n",
    "\n",
    "Так же объявлен словарь `models_results`, в котором для каждой модели под ключем соответсвующим этой модели должна быть `pandas.DataFrame` в которой элементы $x_{i,j}|j=\\overline{1,10}$ - дейсвительный рейтинг $j$-й по предпочтению игры для $i$-го пользователя. То есть если $x_{i,j} = 4|i=\\text{user\\_15},j=3$, то это значит, что исследуемая модель пользователю user_15 червертой предложила игру которой этот пользователь в дейсвительности поставил рейтинг 4."
   ]
  },
  {
   "cell_type": "code",
   "execution_count": 23,
   "id": "17c0ff68-fe9b-4424-98c6-507a1d31fe3f",
   "metadata": {},
   "outputs": [],
   "source": [
    "data_train, data_test, X_train, X_test, y_train, y_test = \\\n",
    "model_selection.train_test_split(\n",
    "    data, data.drop(\"Rating\", axis=1), data[\"Rating\"],\n",
    "    random_state=10, train_size=0.8,\n",
    "    stratify = data[\"UserID\"]\n",
    ")\n",
    "\n",
    "# штука часто используется в различных\n",
    "# ячейках этого раздела - можно понимать как\n",
    "# глобальную настройку\n",
    "reader = Reader(rating_scale=(1, 5))\n",
    "\n",
    "models_results = {}"
   ]
  },
  {
   "cell_type": "markdown",
   "id": "f6d09321-b3fa-4836-9e17-4791321a2c3c",
   "metadata": {},
   "source": [
    "### Случайные рекомендации\n",
    "\n",
    "Для того, чтобы лучше ориентироваться насколько хорошо мы смогли подсунуть рекомендации той или иной моделью будет здорово сравнить результаты со случайным раскидывателем рейтиногов. За одно покажу как должен быть для каждой модели заполнен `models_results`. В результате для каждого пользователя накидал 10 случайных его рейтингов из тестового набора данных - хорошая модель накидает не случайных :)."
   ]
  },
  {
   "cell_type": "code",
   "execution_count": 24,
   "id": "f9a17f8d-a357-4863-91c3-4d82289847e1",
   "metadata": {},
   "outputs": [
    {
     "data": {
      "text/html": [
       "<div>\n",
       "<style scoped>\n",
       "    .dataframe tbody tr th:only-of-type {\n",
       "        vertical-align: middle;\n",
       "    }\n",
       "\n",
       "    .dataframe tbody tr th {\n",
       "        vertical-align: top;\n",
       "    }\n",
       "\n",
       "    .dataframe thead th {\n",
       "        text-align: right;\n",
       "    }\n",
       "</style>\n",
       "<table border=\"1\" class=\"dataframe\">\n",
       "  <thead>\n",
       "    <tr style=\"text-align: right;\">\n",
       "      <th></th>\n",
       "      <th>1</th>\n",
       "      <th>2</th>\n",
       "      <th>3</th>\n",
       "      <th>4</th>\n",
       "      <th>5</th>\n",
       "      <th>6</th>\n",
       "      <th>7</th>\n",
       "      <th>8</th>\n",
       "      <th>9</th>\n",
       "      <th>10</th>\n",
       "    </tr>\n",
       "    <tr>\n",
       "      <th>UserID</th>\n",
       "      <th></th>\n",
       "      <th></th>\n",
       "      <th></th>\n",
       "      <th></th>\n",
       "      <th></th>\n",
       "      <th></th>\n",
       "      <th></th>\n",
       "      <th></th>\n",
       "      <th></th>\n",
       "      <th></th>\n",
       "    </tr>\n",
       "  </thead>\n",
       "  <tbody>\n",
       "    <tr>\n",
       "      <th>user_856</th>\n",
       "      <td>4</td>\n",
       "      <td>1</td>\n",
       "      <td>4</td>\n",
       "      <td>2</td>\n",
       "      <td>4</td>\n",
       "      <td>4</td>\n",
       "      <td>5</td>\n",
       "      <td>5</td>\n",
       "      <td>2</td>\n",
       "      <td>2</td>\n",
       "    </tr>\n",
       "    <tr>\n",
       "      <th>user_96</th>\n",
       "      <td>2</td>\n",
       "      <td>1</td>\n",
       "      <td>3</td>\n",
       "      <td>3</td>\n",
       "      <td>2</td>\n",
       "      <td>4</td>\n",
       "      <td>2</td>\n",
       "      <td>5</td>\n",
       "      <td>1</td>\n",
       "      <td>4</td>\n",
       "    </tr>\n",
       "    <tr>\n",
       "      <th>user_589</th>\n",
       "      <td>5</td>\n",
       "      <td>1</td>\n",
       "      <td>4</td>\n",
       "      <td>5</td>\n",
       "      <td>3</td>\n",
       "      <td>2</td>\n",
       "      <td>1</td>\n",
       "      <td>2</td>\n",
       "      <td>5</td>\n",
       "      <td>5</td>\n",
       "    </tr>\n",
       "  </tbody>\n",
       "</table>\n",
       "</div>"
      ],
      "text/plain": [
       "          1   2   3   4   5   6   7   8   9   10\n",
       "UserID                                          \n",
       "user_856   4   1   4   2   4   4   5   5   2   2\n",
       "user_96    2   1   3   3   2   4   2   5   1   4\n",
       "user_589   5   1   4   5   3   2   1   2   5   5"
      ]
     },
     "execution_count": 24,
     "metadata": {},
     "output_type": "execute_result"
    }
   ],
   "source": [
    "models_results[\"dummy_model\"] = data_test.groupby(\"UserID\")[\"Rating\"].apply(\n",
    "    lambda user_subset: pd.Series(\n",
    "        {i+1:rait for i, rait in enumerate(user_subset.sample(frac=1, random_state=10))}\n",
    "    )\n",
    ").unstack()\n",
    "models_results[\"dummy_model\"].sample(3, random_state=10)"
   ]
  },
  {
   "cell_type": "markdown",
   "id": "048a7104-b7db-4f96-8416-f445d789c1a9",
   "metadata": {},
   "source": [
    "### Коллаборативная фильтрация\n",
    "\n",
    "Я до бескончености могу пытаться найти связи в предложенной выборке. Но уже начинают закрадывать сомнения, что вы какую-либо связь заложили. Поэтому попробуем колоборативные подходы.\n",
    "\n",
    "- https://surprise.readthedocs.io/en/stable;\n",
    "- https://towardsdatascience.com/building-and-testing-recommender-systems-with-surprise-step-by-step-d4ba702ef80b."
   ]
  },
  {
   "cell_type": "markdown",
   "id": "36de77c5-aa62-456b-abce-ebf6e3f7b842",
   "metadata": {},
   "source": [
    "#### Подбор модели\n",
    "\n",
    "Прокрутим несколько моделек, по типу того как показано это сделано в статье на TDS. Лучший подход попробуем валидировать более основательно."
   ]
  },
  {
   "cell_type": "code",
   "execution_count": 12,
   "id": "85dd78e1-bf09-43b3-b4ae-af25da711e24",
   "metadata": {},
   "outputs": [
    {
     "name": "stderr",
     "output_type": "stream",
     "text": [
      "100%|███████████████████████████████████████████████████████████████████████████████████████████████████████████████████████████████████████████████████████████████████████████████████████████████████████████| 7/7 [00:57<00:00,  8.26s/it]\n"
     ]
    }
   ],
   "source": [
    "surp_dataset = Dataset.load_from_df(data[[\"UserID\", \"GameTitle\", 'Rating']], reader)\n",
    "\n",
    "algorithms = [\n",
    "    SlopeOne(), \n",
    "    SVD(), \n",
    "    SVDpp(),\n",
    "    KNNBaseline(verbose=False), \n",
    "    KNNBasic(verbose=False), \n",
    "    KNNWithMeans(verbose=False), \n",
    "    KNNWithZScore(verbose=False)\n",
    "]\n",
    "\n",
    "benchmark = []\n",
    "for algorithm in tqdm(algorithms):\n",
    "    results = cross_validate(\n",
    "        cv=3, verbose=False,\n",
    "        algo=algorithm, \n",
    "        data=surp_dataset,\n",
    "        measures=['RMSE'],\n",
    "    )\n",
    "    \n",
    "    tmp = pd.DataFrame.from_dict(results).mean(axis=0)\n",
    "    tmp[\"Algorithm\"] = str(algorithm).split(' ')[0].split('.')[-1]\n",
    "    benchmark.append(tmp)\n",
    "\n",
    "results_matrix = \\\n",
    "    pd.DataFrame(benchmark).set_index('Algorithm').sort_values('test_rmse')  "
   ]
  },
  {
   "cell_type": "code",
   "execution_count": 14,
   "id": "23579222-3d2f-4d5d-aa84-af781847b317",
   "metadata": {},
   "outputs": [
    {
     "data": {
      "text/html": [
       "<b style='font-size: 15px'>Результаты вычислений</b>"
      ],
      "text/plain": [
       "<IPython.core.display.HTML object>"
      ]
     },
     "metadata": {},
     "output_type": "display_data"
    },
    {
     "data": {
      "text/html": [
       "<div>\n",
       "<style scoped>\n",
       "    .dataframe tbody tr th:only-of-type {\n",
       "        vertical-align: middle;\n",
       "    }\n",
       "\n",
       "    .dataframe tbody tr th {\n",
       "        vertical-align: top;\n",
       "    }\n",
       "\n",
       "    .dataframe thead th {\n",
       "        text-align: right;\n",
       "    }\n",
       "</style>\n",
       "<table border=\"1\" class=\"dataframe\">\n",
       "  <thead>\n",
       "    <tr style=\"text-align: right;\">\n",
       "      <th></th>\n",
       "      <th>test_rmse</th>\n",
       "      <th>fit_time</th>\n",
       "      <th>test_time</th>\n",
       "    </tr>\n",
       "    <tr>\n",
       "      <th>Algorithm</th>\n",
       "      <th></th>\n",
       "      <th></th>\n",
       "      <th></th>\n",
       "    </tr>\n",
       "  </thead>\n",
       "  <tbody>\n",
       "    <tr>\n",
       "      <th>KNNBasic</th>\n",
       "      <td>1.432988</td>\n",
       "      <td>0.300956</td>\n",
       "      <td>4.229839</td>\n",
       "    </tr>\n",
       "    <tr>\n",
       "      <th>SlopeOne</th>\n",
       "      <td>1.436931</td>\n",
       "      <td>0.023069</td>\n",
       "      <td>0.182523</td>\n",
       "    </tr>\n",
       "    <tr>\n",
       "      <th>KNNBaseline</th>\n",
       "      <td>1.438951</td>\n",
       "      <td>0.321708</td>\n",
       "      <td>3.965258</td>\n",
       "    </tr>\n",
       "    <tr>\n",
       "      <th>KNNWithZScore</th>\n",
       "      <td>1.444105</td>\n",
       "      <td>0.316511</td>\n",
       "      <td>3.613474</td>\n",
       "    </tr>\n",
       "    <tr>\n",
       "      <th>KNNWithMeans</th>\n",
       "      <td>1.444711</td>\n",
       "      <td>0.316089</td>\n",
       "      <td>3.728422</td>\n",
       "    </tr>\n",
       "    <tr>\n",
       "      <th>SVD</th>\n",
       "      <td>1.513780</td>\n",
       "      <td>0.231744</td>\n",
       "      <td>0.067686</td>\n",
       "    </tr>\n",
       "    <tr>\n",
       "      <th>SVDpp</th>\n",
       "      <td>1.582364</td>\n",
       "      <td>1.276145</td>\n",
       "      <td>0.470628</td>\n",
       "    </tr>\n",
       "  </tbody>\n",
       "</table>\n",
       "</div>"
      ],
      "text/plain": [
       "               test_rmse  fit_time  test_time\n",
       "Algorithm                                    \n",
       "KNNBasic        1.432988  0.300956   4.229839\n",
       "SlopeOne        1.436931  0.023069   0.182523\n",
       "KNNBaseline     1.438951  0.321708   3.965258\n",
       "KNNWithZScore   1.444105  0.316511   3.613474\n",
       "KNNWithMeans    1.444711  0.316089   3.728422\n",
       "SVD             1.513780  0.231744   0.067686\n",
       "SVDpp           1.582364  1.276145   0.470628"
      ]
     },
     "metadata": {},
     "output_type": "display_data"
    },
    {
     "data": {
      "text/html": [
       "<b style='font-size: 15px'>Лучшая модель - KNNBasic</b>"
      ],
      "text/plain": [
       "<IPython.core.display.HTML object>"
      ]
     },
     "metadata": {},
     "output_type": "display_data"
    }
   ],
   "source": [
    "display(HTML(\"<b style='font-size: 15px'>Результаты вычислений</b>\"))\n",
    "display(results_matrix)\n",
    "best_model_res = results_matrix[\"test_rmse\"].idxmin()\n",
    "display(HTML(f\"<b style='font-size: 15px'>Лучшая модель - {best_model_res}</b>\"))"
   ]
  },
  {
   "cell_type": "markdown",
   "id": "a36d88cc-65f2-48b4-8e29-902ee4fbdc24",
   "metadata": {},
   "source": [
    "#### Результаты\n",
    "\n",
    "Обучаем модель на оющум train и котовим пердсказания для общего test."
   ]
  },
  {
   "cell_type": "code",
   "execution_count": 25,
   "id": "70bdda1b-4961-4e04-8044-108f2d6c62fb",
   "metadata": {},
   "outputs": [],
   "source": [
    "data_train_surp = Dataset.load_from_df(\n",
    "    data_train[[\"UserID\", \"GameTitle\", 'Rating']], reader\n",
    ")\n",
    "\n",
    "# подготовка модели\n",
    "model = KNNBasic(verbose=False)\n",
    "model = model.fit(data_train_surp.build_full_trainset())\n",
    "\n",
    "# раскатываем предсказания на test\n",
    "model_scores = data_test.apply(\n",
    "    lambda row: model.predict(\n",
    "        row[\"UserID\"], row[\"GameTitle\"]\n",
    "    ).est, axis = 1\n",
    ")\n",
    "\n",
    "# получаем рейтинги для каждого предсказания модели\n",
    "models_results[\"collaborative_model\"] = model_scores.groupby(data_test[\"UserID\"]).apply(\n",
    "    lambda subset:\n",
    "        data_test.loc[subset.index, \"Rating\"].loc[\n",
    "            model_scores.loc[subset.index].\n",
    "            sort_values(ascending=False).index\n",
    "        ].set_axis(range(1, len(subset) + 1))\n",
    ").unstack()"
   ]
  },
  {
   "cell_type": "markdown",
   "id": "6ee24e31-6ca8-4ecc-8bc7-51ea0bbfbc35",
   "metadata": {},
   "source": [
    "### Контентный подход\n",
    "\n",
    "Несмотря на то, что в предложенном наборе данных неудалось найти хоть каких либо взаимосвязей `catboost` иногда творит чудеса. Поэтому попробуем подогнать его под предложенную выборку."
   ]
  },
  {
   "cell_type": "code",
   "execution_count": 26,
   "id": "9b9e84f7-78ad-44f6-81b8-676e75d4ff2b",
   "metadata": {
    "scrolled": true
   },
   "outputs": [],
   "source": [
    "model = CatBoostRegressor(\n",
    "    cat_features=X_train.select_dtypes(\"O\").columns.to_list(),\n",
    "    random_state=11,\n",
    "    silent = True\n",
    ").fit(X_train, y_train)\n",
    "\n",
    "predict_test = pd.Series(model.predict(X_test), index=X_test.index)\n",
    "\n",
    "models_results[\"content_model\"] = model_scores.groupby(data_test[\"UserID\"]).apply(\n",
    "    lambda subset:\n",
    "        data_test.loc[subset.index, \"Rating\"].loc[\n",
    "            predict_test.loc[subset.index].\n",
    "            sort_values(ascending=False).index\n",
    "        ].set_axis(range(1, len(subset) + 1))\n",
    ").unstack()"
   ]
  },
  {
   "cell_type": "markdown",
   "id": "09b86934-129f-49d0-a8c5-e176efd49fac",
   "metadata": {},
   "source": [
    "## Оценка качетсва\n",
    "\n",
    "Будем считать, что рекомендация хорошая, если пользователь присвоил модели рейтинг 5. Дейсвуя в этом предположении подсчитаем некоторые популярные метрики рекомендательных систем:"
   ]
  },
  {
   "cell_type": "code",
   "execution_count": 80,
   "id": "7fd35821-50dd-49cb-8121-fb9505a51040",
   "metadata": {},
   "outputs": [
    {
     "data": {
      "text/html": [
       "<div>\n",
       "<style scoped>\n",
       "    .dataframe tbody tr th:only-of-type {\n",
       "        vertical-align: middle;\n",
       "    }\n",
       "\n",
       "    .dataframe tbody tr th {\n",
       "        vertical-align: top;\n",
       "    }\n",
       "\n",
       "    .dataframe thead th {\n",
       "        text-align: right;\n",
       "    }\n",
       "</style>\n",
       "<table border=\"1\" class=\"dataframe\">\n",
       "  <thead>\n",
       "    <tr style=\"text-align: right;\">\n",
       "      <th></th>\n",
       "      <th>hitrage@1</th>\n",
       "      <th>hitrage@3</th>\n",
       "      <th>hitrage@5</th>\n",
       "      <th>precision@1</th>\n",
       "      <th>precision@3</th>\n",
       "      <th>precision@5</th>\n",
       "      <th>recall@1</th>\n",
       "      <th>recall@3</th>\n",
       "      <th>recall@5</th>\n",
       "    </tr>\n",
       "  </thead>\n",
       "  <tbody>\n",
       "    <tr>\n",
       "      <th>dummy_model</th>\n",
       "      <td>0.194</td>\n",
       "      <td>0.473</td>\n",
       "      <td>0.688</td>\n",
       "      <td>0.194</td>\n",
       "      <td>0.190000</td>\n",
       "      <td>0.2006</td>\n",
       "      <td>0.199343</td>\n",
       "      <td>0.364119</td>\n",
       "      <td>0.556229</td>\n",
       "    </tr>\n",
       "    <tr>\n",
       "      <th>collaborative_model</th>\n",
       "      <td>0.182</td>\n",
       "      <td>0.507</td>\n",
       "      <td>0.696</td>\n",
       "      <td>0.182</td>\n",
       "      <td>0.205000</td>\n",
       "      <td>0.2088</td>\n",
       "      <td>0.192593</td>\n",
       "      <td>0.390669</td>\n",
       "      <td>0.583821</td>\n",
       "    </tr>\n",
       "    <tr>\n",
       "      <th>content_model</th>\n",
       "      <td>0.185</td>\n",
       "      <td>0.467</td>\n",
       "      <td>0.657</td>\n",
       "      <td>0.185</td>\n",
       "      <td>0.190333</td>\n",
       "      <td>0.1948</td>\n",
       "      <td>0.187043</td>\n",
       "      <td>0.356026</td>\n",
       "      <td>0.534045</td>\n",
       "    </tr>\n",
       "  </tbody>\n",
       "</table>\n",
       "</div>"
      ],
      "text/plain": [
       "                     hitrage@1  hitrage@3  hitrage@5  precision@1  \\\n",
       "dummy_model              0.194      0.473      0.688        0.194   \n",
       "collaborative_model      0.182      0.507      0.696        0.182   \n",
       "content_model            0.185      0.467      0.657        0.185   \n",
       "\n",
       "                     precision@3  precision@5  recall@1  recall@3  recall@5  \n",
       "dummy_model             0.190000       0.2006  0.199343  0.364119  0.556229  \n",
       "collaborative_model     0.205000       0.2088  0.192593  0.390669  0.583821  \n",
       "content_model           0.190333       0.1948  0.187043  0.356026  0.534045  "
      ]
     },
     "execution_count": 80,
     "metadata": {},
     "output_type": "execute_result"
    }
   ],
   "source": [
    "hitrate = lambda k: {\n",
    "    key:(res.iloc[:, :k] == 5).any(axis=1).mean()\n",
    "    for key, res in models_results.items()\n",
    "}\n",
    "precision = lambda k:{\n",
    "    key:((res.iloc[:, :k] == 5).mean(axis=1)).mean()\n",
    "    for key, res in models_results.items()\n",
    "}\n",
    "recall = lambda k:{\n",
    "    key:((res.iloc[:,:k] == 5).sum(axis=1)/(res == 5).sum(axis=1)).fillna(1).mean()\n",
    "    for key, res in models_results.items()\n",
    "}\n",
    "\n",
    "pd.DataFrame(\n",
    "    {\n",
    "        **{f\"hitrage@{i}\":hitrate(i) for i in [1,3,5]},\n",
    "        **{f\"precision@{i}\":precision(i) for i in [1,3,5]},\n",
    "        **{f\"recall@{i}\":recall(i) for i in [1,3,5]}\n",
    "    }\n",
    ")"
   ]
  },
  {
   "cell_type": "markdown",
   "id": "1dde01e8-003f-4191-9020-463203f3ef92",
   "metadata": {},
   "source": [
    "В результате, похоже что модели, что я настроил почти не отличаются от случайного угадывания. Но похоже, что в выборку не завезли взаимосвязей - это случайные значения. Редко бывает так, что может быть, не идеальные но все общепринятые методы ни дают НИКАКОГО результата. \n",
    "\n",
    "Но, если долго присматриватся, может показаться, что модель опирающаяся на коллаборативный подход немножко превосходит модель случайного угадывания. Поэтому для того чтобы показать как я умею подготовливать модели для введения в прод будем использовать именно ее."
   ]
  }
 ],
 "metadata": {
  "kernelspec": {
   "display_name": "Python 3 (ipykernel)",
   "language": "python",
   "name": "python3"
  },
  "language_info": {
   "codemirror_mode": {
    "name": "ipython",
    "version": 3
   },
   "file_extension": ".py",
   "mimetype": "text/x-python",
   "name": "python",
   "nbconvert_exporter": "python",
   "pygments_lexer": "ipython3",
   "version": "3.10.12"
  }
 },
 "nbformat": 4,
 "nbformat_minor": 5
}
