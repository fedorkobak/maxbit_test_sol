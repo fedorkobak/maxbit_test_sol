{
 "cells": [
  {
   "cell_type": "markdown",
   "id": "5d8bad7e-173a-46cd-9356-5e52d0b276eb",
   "metadata": {},
   "source": [
    "# Исследование"
   ]
  },
  {
   "cell_type": "code",
   "execution_count": 1,
   "id": "eb35c353-f986-45f8-b0d9-2418e7dd11ef",
   "metadata": {},
   "outputs": [],
   "source": [
    "from IPython.display import HTML\n",
    "\n",
    "import numpy as np\n",
    "import pandas as pd\n",
    "\n",
    "from sklearn import tree\n",
    "from sklearn.preprocessing import OneHotEncoder\n",
    "from sklearn.pipeline import Pipeline\n",
    "from sklearn.model_selection import train_test_split\n",
    "from sklearn.ensemble import RandomForestRegressor\n",
    "\n",
    "from catboost import CatBoostRegressor\n",
    "\n",
    "import seaborn as sns\n",
    "import matplotlib.pyplot as plt"
   ]
  },
  {
   "cell_type": "markdown",
   "id": "2a194e32-ac2d-4cde-a164-478dd926415a",
   "metadata": {},
   "source": [
    "## Изучение данных"
   ]
  },
  {
   "cell_type": "markdown",
   "id": "e665f410-70ee-4f4e-bc15-474224c0214b",
   "metadata": {},
   "source": [
    "Далее представлено несколько колонок полученного набора данных."
   ]
  },
  {
   "cell_type": "markdown",
   "id": "57de2f9d-c0d8-4f16-91bd-de6da42e87c9",
   "metadata": {},
   "source": [
    "Не нашел в репозитории описания данных, поэтому, опишу как я интерпретировал таблицу, для того чтобы читающему было понятнее по какой причине я принял те или иные решения.\n",
    "\n",
    "Удельная запись представляест собой пары комбинаций пользователь-игра и соответсвнно описание пользовательского опыта в той или иной игре."
   ]
  },
  {
   "cell_type": "markdown",
   "id": "ea52f728-292b-42e2-bd17-def73428c816",
   "metadata": {},
   "source": [
    "### Описание колонок"
   ]
  },
  {
   "cell_type": "markdown",
   "id": "26919a3a-db36-47a2-9cf9-45437c180db5",
   "metadata": {},
   "source": [
    "Очевидно что:\n",
    "\n",
    "- `UserID` - уникальный идентификатор пользователя;\n",
    "- `GameTitle` - уникальный идетификатор игры;\n",
    "- `Age` - возраст пользователя;\n",
    "- `Gender` - пол пользователя;\n",
    "- `PurchaseHistory` - если история покупок у этого пользователя;\n",
    "- `GameGenre` - жанр рассматриваемой игры;\n",
    "- `GameUpdateFrequency` - как часто обновляется данная игра;\n",
    "- `GameSettingsPreference` - некоторая особенность игры."
   ]
  },
  {
   "cell_type": "markdown",
   "id": "a47eb126-e24c-47b8-a059-c617a34ab263",
   "metadata": {},
   "source": [
    "Для некоторых колонок не до конца понятно описывают они пользователя (одинаковые в рамках пользоваля), игру (одинаковые в рамках игры) или описывают выбранную комбинацию пользователь игра (то есть потенциально могут быть уникальными вне привязки к пользователю или игре).\n",
    "\n",
    "Так например колонка `Rating` может описывать средний рейтинг по игре или быть отражением того, что так ее оценил пользователь который сопряжен с ней в этой записи.\n",
    "\n",
    "Для того чтобы проверить такие моменты, для каждого пользователя/игры подсчитаем сколько уникальных значений соответсвуют ему в той или иной колонке. В следующей ячейке проводится эта процедура - в результате для каждой колонки поставлено в соответсвие уникальные ли в ней значения по пользователю и по игре."
   ]
  },
  {
   "cell_type": "code",
   "execution_count": 3,
   "id": "203d598e-0225-4b0e-8696-45af895f3e59",
   "metadata": {},
   "outputs": [
    {
     "data": {
      "text/html": [
       "<b>По пользователю</b>"
      ],
      "text/plain": [
       "<IPython.core.display.HTML object>"
      ]
     },
     "metadata": {},
     "output_type": "display_data"
    },
    {
     "data": {
      "text/html": [
       "<div>\n",
       "<style scoped>\n",
       "    .dataframe tbody tr th:only-of-type {\n",
       "        vertical-align: middle;\n",
       "    }\n",
       "\n",
       "    .dataframe tbody tr th {\n",
       "        vertical-align: top;\n",
       "    }\n",
       "\n",
       "    .dataframe thead th {\n",
       "        text-align: right;\n",
       "    }\n",
       "</style>\n",
       "<table border=\"1\" class=\"dataframe\">\n",
       "  <thead>\n",
       "    <tr style=\"text-align: right;\">\n",
       "      <th></th>\n",
       "      <th>По пользователю</th>\n",
       "      <th>По игре</th>\n",
       "    </tr>\n",
       "  </thead>\n",
       "  <tbody>\n",
       "    <tr>\n",
       "      <th>UserID</th>\n",
       "      <td>NaN</td>\n",
       "      <td>Не уникальное</td>\n",
       "    </tr>\n",
       "    <tr>\n",
       "      <th>GameTitle</th>\n",
       "      <td>Не уникальное</td>\n",
       "      <td>NaN</td>\n",
       "    </tr>\n",
       "    <tr>\n",
       "      <th>Rating</th>\n",
       "      <td>Не уникальное</td>\n",
       "      <td>Не уникальное</td>\n",
       "    </tr>\n",
       "    <tr>\n",
       "      <th>Age</th>\n",
       "      <td>Уникальное</td>\n",
       "      <td>Не уникальное</td>\n",
       "    </tr>\n",
       "    <tr>\n",
       "      <th>Gender</th>\n",
       "      <td>Уникальное</td>\n",
       "      <td>Не уникальное</td>\n",
       "    </tr>\n",
       "    <tr>\n",
       "      <th>Location</th>\n",
       "      <td>Уникальное</td>\n",
       "      <td>Не уникальное</td>\n",
       "    </tr>\n",
       "    <tr>\n",
       "      <th>Device</th>\n",
       "      <td>Уникальное</td>\n",
       "      <td>Не уникальное</td>\n",
       "    </tr>\n",
       "    <tr>\n",
       "      <th>PlayTimeOfDay</th>\n",
       "      <td>Уникальное</td>\n",
       "      <td>Не уникальное</td>\n",
       "    </tr>\n",
       "    <tr>\n",
       "      <th>TotalPlaytimeInHours</th>\n",
       "      <td>Уникальное</td>\n",
       "      <td>Не уникальное</td>\n",
       "    </tr>\n",
       "    <tr>\n",
       "      <th>PurchaseHistory</th>\n",
       "      <td>Уникальное</td>\n",
       "      <td>Не уникальное</td>\n",
       "    </tr>\n",
       "    <tr>\n",
       "      <th>InvolvementLevel</th>\n",
       "      <td>Уникальное</td>\n",
       "      <td>Не уникальное</td>\n",
       "    </tr>\n",
       "    <tr>\n",
       "      <th>UserReview</th>\n",
       "      <td>Уникальное</td>\n",
       "      <td>Не уникальное</td>\n",
       "    </tr>\n",
       "    <tr>\n",
       "      <th>GameGenre</th>\n",
       "      <td>Не уникальное</td>\n",
       "      <td>Уникальное</td>\n",
       "    </tr>\n",
       "    <tr>\n",
       "      <th>GameUpdateFrequency</th>\n",
       "      <td>Не уникальное</td>\n",
       "      <td>Уникальное</td>\n",
       "    </tr>\n",
       "    <tr>\n",
       "      <th>SocialActivity</th>\n",
       "      <td>Не уникальное</td>\n",
       "      <td>Уникальное</td>\n",
       "    </tr>\n",
       "    <tr>\n",
       "      <th>LoadingTimeInSeconds</th>\n",
       "      <td>Не уникальное</td>\n",
       "      <td>Уникальное</td>\n",
       "    </tr>\n",
       "    <tr>\n",
       "      <th>GameSettingsPreference</th>\n",
       "      <td>Не уникальное</td>\n",
       "      <td>Уникальное</td>\n",
       "    </tr>\n",
       "  </tbody>\n",
       "</table>\n",
       "</div>"
      ],
      "text/plain": [
       "                       По пользователю        По игре\n",
       "UserID                             NaN  Не уникальное\n",
       "GameTitle                Не уникальное            NaN\n",
       "Rating                   Не уникальное  Не уникальное\n",
       "Age                         Уникальное  Не уникальное\n",
       "Gender                      Уникальное  Не уникальное\n",
       "Location                    Уникальное  Не уникальное\n",
       "Device                      Уникальное  Не уникальное\n",
       "PlayTimeOfDay               Уникальное  Не уникальное\n",
       "TotalPlaytimeInHours        Уникальное  Не уникальное\n",
       "PurchaseHistory             Уникальное  Не уникальное\n",
       "InvolvementLevel            Уникальное  Не уникальное\n",
       "UserReview                  Уникальное  Не уникальное\n",
       "GameGenre                Не уникальное     Уникальное\n",
       "GameUpdateFrequency      Не уникальное     Уникальное\n",
       "SocialActivity           Не уникальное     Уникальное\n",
       "LoadingTimeInSeconds     Не уникальное     Уникальное\n",
       "GameSettingsPreference   Не уникальное     Уникальное"
      ]
     },
     "execution_count": 3,
     "metadata": {},
     "output_type": "execute_result"
    }
   ],
   "source": [
    "display(HTML(\"<b>По пользователю</b>\"))\n",
    "by_user = (\n",
    "    (data.groupby(\"UserID\").nunique() == 1)\n",
    "    .all().replace({True:\"Уникальное\", False:\"Не уникальное\"})\n",
    ")\n",
    "by_game = (\n",
    "    (data.groupby(\"GameTitle\").nunique() == 1)\n",
    "    .all().replace({True:\"Уникальное\", False:\"Не уникальное\"})\n",
    ")\n",
    "pd.DataFrame({\n",
    "    \"По пользователю\" : by_user,\n",
    "    \"По игре\" : by_game\n",
    "}).loc[data.columns]"
   ]
  },
  {
   "cell_type": "markdown",
   "id": "f39de63b-c61b-4894-9e72-0782163db5a0",
   "metadata": {},
   "source": [
    "Можно сделать выводы про следующие колонки:\n",
    "\n",
    "- `Rating` указывает как клиент из записи оценил соовтевующую игру;\n",
    "- `Location` указывает на условно постоянный адрес пользоватля (а не то куда он играл в ту или иную игру);\n",
    "- `Device` указывает на условно постоянный девайс пользователя (а не то каой девайс он исопльзовал для игры);\n",
    "- `PlayTimeOfDay` указывает когда клиент предпочитает играть - уникальный по пользователю;\n",
    "- `TotalPlaytimeInHours` то сколько **всего** играл пользователь во все игры, а не то соколько он играл именно в эту игру;\n",
    "- `InvolvementLevel` - то насколько пользователь вовлечен в игровую платформу в целом а не в конкретную игру;\n",
    "- `UserReview` - отзыв пользователя, видимо ко всей платформе в целом а не к конкретной игре;\n",
    "- `SocialActivity` - не до конца понятно что это за колонка но это какая-то уникальная характеристика игры;\n",
    "- `LoadingTimeInSeconds` - сколько данная игра загружалась, получается что у всех пользователей игра зпускается одинаково быстро."
   ]
  },
  {
   "cell_type": "markdown",
   "id": "2df8ff34-f6cd-4218-b3b2-ea2e40c89a78",
   "metadata": {},
   "source": [
    "**Целевая переменная**\n",
    "\n",
    "Совершенно очевидно, что в данном случае следует использовать переменную `Rating` как целевую переменную (target) так как только она характеризует некотрое свойсво комбинации пользователь/игра, Все остальные переменны характеризую либо некоторого пользователя либо некоторую игру."
   ]
  },
  {
   "cell_type": "markdown",
   "id": "a1f20b3e-9812-4a50-92a8-d656b3575633",
   "metadata": {},
   "source": [
    "## Гипотезы"
   ]
  },
  {
   "cell_type": "markdown",
   "id": "2d9a2114-9f77-4454-bf58-b701b2e463af",
   "metadata": {},
   "source": [
    "### Соряженность свойсв игры/пользователя"
   ]
  },
  {
   "cell_type": "markdown",
   "id": "0ec20ee2-6ed4-4ddd-83ee-0e069b27c958",
   "metadata": {},
   "source": [
    "Возможно женщинам и мужчинам нравятся разные игровые жанры. Поэтому подсчитаем раличные статистики по рейтингу в сопряженности пола и игрового жанра."
   ]
  },
  {
   "cell_type": "code",
   "execution_count": 4,
   "id": "6fe21dd5-6c3b-44d1-a05a-33a2b151394c",
   "metadata": {},
   "outputs": [
    {
     "data": {
      "text/html": [
       "<b style='font-size: 14px'>Количество наблюдений</b>"
      ],
      "text/plain": [
       "<IPython.core.display.HTML object>"
      ]
     },
     "metadata": {},
     "output_type": "display_data"
    },
    {
     "data": {
      "text/html": [
       "<div>\n",
       "<style scoped>\n",
       "    .dataframe tbody tr th:only-of-type {\n",
       "        vertical-align: middle;\n",
       "    }\n",
       "\n",
       "    .dataframe tbody tr th {\n",
       "        vertical-align: top;\n",
       "    }\n",
       "\n",
       "    .dataframe thead th {\n",
       "        text-align: right;\n",
       "    }\n",
       "</style>\n",
       "<table border=\"1\" class=\"dataframe\">\n",
       "  <thead>\n",
       "    <tr style=\"text-align: right;\">\n",
       "      <th>GameGenre</th>\n",
       "      <th>Action</th>\n",
       "      <th>Adventure</th>\n",
       "      <th>Puzzle</th>\n",
       "      <th>RPG</th>\n",
       "      <th>Simulation</th>\n",
       "      <th>Sports</th>\n",
       "      <th>Strategy</th>\n",
       "    </tr>\n",
       "    <tr>\n",
       "      <th>Gender</th>\n",
       "      <th></th>\n",
       "      <th></th>\n",
       "      <th></th>\n",
       "      <th></th>\n",
       "      <th></th>\n",
       "      <th></th>\n",
       "      <th></th>\n",
       "    </tr>\n",
       "  </thead>\n",
       "  <tbody>\n",
       "    <tr>\n",
       "      <th>Female</th>\n",
       "      <td>2920</td>\n",
       "      <td>4015</td>\n",
       "      <td>1460</td>\n",
       "      <td>2555</td>\n",
       "      <td>2555</td>\n",
       "      <td>3650</td>\n",
       "      <td>1095</td>\n",
       "    </tr>\n",
       "    <tr>\n",
       "      <th>Male</th>\n",
       "      <td>2520</td>\n",
       "      <td>3465</td>\n",
       "      <td>1260</td>\n",
       "      <td>2205</td>\n",
       "      <td>2205</td>\n",
       "      <td>3150</td>\n",
       "      <td>945</td>\n",
       "    </tr>\n",
       "    <tr>\n",
       "      <th>Other</th>\n",
       "      <td>2560</td>\n",
       "      <td>3520</td>\n",
       "      <td>1280</td>\n",
       "      <td>2240</td>\n",
       "      <td>2240</td>\n",
       "      <td>3200</td>\n",
       "      <td>960</td>\n",
       "    </tr>\n",
       "  </tbody>\n",
       "</table>\n",
       "</div>"
      ],
      "text/plain": [
       "GameGenre  Action  Adventure  Puzzle   RPG  Simulation  Sports  Strategy\n",
       "Gender                                                                  \n",
       "Female       2920       4015    1460  2555        2555    3650      1095\n",
       "Male         2520       3465    1260  2205        2205    3150       945\n",
       "Other        2560       3520    1280  2240        2240    3200       960"
      ]
     },
     "metadata": {},
     "output_type": "display_data"
    },
    {
     "data": {
      "text/html": [
       "<b style='font-size: 14px'>Средний рейтинг</b>"
      ],
      "text/plain": [
       "<IPython.core.display.HTML object>"
      ]
     },
     "metadata": {},
     "output_type": "display_data"
    },
    {
     "data": {
      "text/html": [
       "<div>\n",
       "<style scoped>\n",
       "    .dataframe tbody tr th:only-of-type {\n",
       "        vertical-align: middle;\n",
       "    }\n",
       "\n",
       "    .dataframe tbody tr th {\n",
       "        vertical-align: top;\n",
       "    }\n",
       "\n",
       "    .dataframe thead th {\n",
       "        text-align: right;\n",
       "    }\n",
       "</style>\n",
       "<table border=\"1\" class=\"dataframe\">\n",
       "  <thead>\n",
       "    <tr style=\"text-align: right;\">\n",
       "      <th>GameGenre</th>\n",
       "      <th>Action</th>\n",
       "      <th>Adventure</th>\n",
       "      <th>Puzzle</th>\n",
       "      <th>RPG</th>\n",
       "      <th>Simulation</th>\n",
       "      <th>Sports</th>\n",
       "      <th>Strategy</th>\n",
       "    </tr>\n",
       "    <tr>\n",
       "      <th>Gender</th>\n",
       "      <th></th>\n",
       "      <th></th>\n",
       "      <th></th>\n",
       "      <th></th>\n",
       "      <th></th>\n",
       "      <th></th>\n",
       "      <th></th>\n",
       "    </tr>\n",
       "  </thead>\n",
       "  <tbody>\n",
       "    <tr>\n",
       "      <th>Female</th>\n",
       "      <td>2.994178</td>\n",
       "      <td>3.037360</td>\n",
       "      <td>2.939041</td>\n",
       "      <td>2.971820</td>\n",
       "      <td>3.008611</td>\n",
       "      <td>3.003288</td>\n",
       "      <td>3.044749</td>\n",
       "    </tr>\n",
       "    <tr>\n",
       "      <th>Male</th>\n",
       "      <td>2.994841</td>\n",
       "      <td>2.990765</td>\n",
       "      <td>2.949206</td>\n",
       "      <td>3.013605</td>\n",
       "      <td>3.016780</td>\n",
       "      <td>2.984444</td>\n",
       "      <td>3.082540</td>\n",
       "    </tr>\n",
       "    <tr>\n",
       "      <th>Other</th>\n",
       "      <td>3.010937</td>\n",
       "      <td>3.001705</td>\n",
       "      <td>3.013281</td>\n",
       "      <td>2.973214</td>\n",
       "      <td>3.008482</td>\n",
       "      <td>2.992812</td>\n",
       "      <td>2.984375</td>\n",
       "    </tr>\n",
       "  </tbody>\n",
       "</table>\n",
       "</div>"
      ],
      "text/plain": [
       "GameGenre    Action  Adventure    Puzzle       RPG  Simulation    Sports  \\\n",
       "Gender                                                                     \n",
       "Female     2.994178   3.037360  2.939041  2.971820    3.008611  3.003288   \n",
       "Male       2.994841   2.990765  2.949206  3.013605    3.016780  2.984444   \n",
       "Other      3.010937   3.001705  3.013281  2.973214    3.008482  2.992812   \n",
       "\n",
       "GameGenre  Strategy  \n",
       "Gender               \n",
       "Female     3.044749  \n",
       "Male       3.082540  \n",
       "Other      2.984375  "
      ]
     },
     "metadata": {},
     "output_type": "display_data"
    },
    {
     "data": {
      "text/html": [
       "<b style='font-size: 14px'>Доля наблюдений с рейтингом 5</b>"
      ],
      "text/plain": [
       "<IPython.core.display.HTML object>"
      ]
     },
     "metadata": {},
     "output_type": "display_data"
    },
    {
     "data": {
      "text/html": [
       "<div>\n",
       "<style scoped>\n",
       "    .dataframe tbody tr th:only-of-type {\n",
       "        vertical-align: middle;\n",
       "    }\n",
       "\n",
       "    .dataframe tbody tr th {\n",
       "        vertical-align: top;\n",
       "    }\n",
       "\n",
       "    .dataframe thead th {\n",
       "        text-align: right;\n",
       "    }\n",
       "</style>\n",
       "<table border=\"1\" class=\"dataframe\">\n",
       "  <thead>\n",
       "    <tr style=\"text-align: right;\">\n",
       "      <th>GameGenre</th>\n",
       "      <th>Action</th>\n",
       "      <th>Adventure</th>\n",
       "      <th>Puzzle</th>\n",
       "      <th>RPG</th>\n",
       "      <th>Simulation</th>\n",
       "      <th>Sports</th>\n",
       "      <th>Strategy</th>\n",
       "    </tr>\n",
       "    <tr>\n",
       "      <th>Gender</th>\n",
       "      <th></th>\n",
       "      <th></th>\n",
       "      <th></th>\n",
       "      <th></th>\n",
       "      <th></th>\n",
       "      <th></th>\n",
       "      <th></th>\n",
       "    </tr>\n",
       "  </thead>\n",
       "  <tbody>\n",
       "    <tr>\n",
       "      <th>Female</th>\n",
       "      <td>0.198630</td>\n",
       "      <td>0.201743</td>\n",
       "      <td>0.192466</td>\n",
       "      <td>0.199609</td>\n",
       "      <td>0.199217</td>\n",
       "      <td>0.200548</td>\n",
       "      <td>0.207306</td>\n",
       "    </tr>\n",
       "    <tr>\n",
       "      <th>Male</th>\n",
       "      <td>0.194444</td>\n",
       "      <td>0.194228</td>\n",
       "      <td>0.184921</td>\n",
       "      <td>0.200000</td>\n",
       "      <td>0.205896</td>\n",
       "      <td>0.193968</td>\n",
       "      <td>0.220106</td>\n",
       "    </tr>\n",
       "    <tr>\n",
       "      <th>Other</th>\n",
       "      <td>0.202734</td>\n",
       "      <td>0.203693</td>\n",
       "      <td>0.204687</td>\n",
       "      <td>0.194643</td>\n",
       "      <td>0.209375</td>\n",
       "      <td>0.194062</td>\n",
       "      <td>0.194792</td>\n",
       "    </tr>\n",
       "  </tbody>\n",
       "</table>\n",
       "</div>"
      ],
      "text/plain": [
       "GameGenre    Action  Adventure    Puzzle       RPG  Simulation    Sports  \\\n",
       "Gender                                                                     \n",
       "Female     0.198630   0.201743  0.192466  0.199609    0.199217  0.200548   \n",
       "Male       0.194444   0.194228  0.184921  0.200000    0.205896  0.193968   \n",
       "Other      0.202734   0.203693  0.204687  0.194643    0.209375  0.194062   \n",
       "\n",
       "GameGenre  Strategy  \n",
       "Gender               \n",
       "Female     0.207306  \n",
       "Male       0.220106  \n",
       "Other      0.194792  "
      ]
     },
     "metadata": {},
     "output_type": "display_data"
    }
   ],
   "source": [
    "my_gb = data.groupby([\"Gender\", \"GameGenre\"])\n",
    "\n",
    "display(HTML(\"<b style='font-size: 14px'>Количество наблюдений</b>\"))\n",
    "display(my_gb[\"Rating\"].count().unstack())\n",
    "display(HTML(\"<b style='font-size: 14px'>Средний рейтинг</b>\"))\n",
    "display(my_gb[\"Rating\"].mean().unstack())\n",
    "display(HTML(\"<b style='font-size: 14px'>Доля наблюдений с рейтингом 5</b>\"))\n",
    "display(my_gb[\"Rating\"].apply(lambda sub_col: (sub_col > 4).mean()).unstack())"
   ]
  },
  {
   "cell_type": "markdown",
   "id": "8cd2089f-c21e-4a7e-94d1-e44f4ae23d05",
   "metadata": {},
   "source": [
    "Можно подумать, что мобильные платформы не такие производительные как стационарные поэтому стоит перепроверить может не стоит на мобилы рекомендовать высокопроизводительные игры. Закономерностей не обнаружено.  "
   ]
  },
  {
   "cell_type": "code",
   "execution_count": 5,
   "id": "468a55aa-aa99-4f37-bd5b-3c8682f345fb",
   "metadata": {},
   "outputs": [
    {
     "data": {
      "text/html": [
       "<b style='font-size: 14px'>Количество наблюдений</b>"
      ],
      "text/plain": [
       "<IPython.core.display.HTML object>"
      ]
     },
     "metadata": {},
     "output_type": "display_data"
    },
    {
     "data": {
      "text/html": [
       "<div>\n",
       "<style scoped>\n",
       "    .dataframe tbody tr th:only-of-type {\n",
       "        vertical-align: middle;\n",
       "    }\n",
       "\n",
       "    .dataframe tbody tr th {\n",
       "        vertical-align: top;\n",
       "    }\n",
       "\n",
       "    .dataframe thead th {\n",
       "        text-align: right;\n",
       "    }\n",
       "</style>\n",
       "<table border=\"1\" class=\"dataframe\">\n",
       "  <thead>\n",
       "    <tr style=\"text-align: right;\">\n",
       "      <th>Device</th>\n",
       "      <th>Console</th>\n",
       "      <th>Mobile</th>\n",
       "      <th>PC</th>\n",
       "    </tr>\n",
       "    <tr>\n",
       "      <th>GameSettingsPreference</th>\n",
       "      <th></th>\n",
       "      <th></th>\n",
       "      <th></th>\n",
       "    </tr>\n",
       "  </thead>\n",
       "  <tbody>\n",
       "    <tr>\n",
       "      <th>Balanced</th>\n",
       "      <td>3924</td>\n",
       "      <td>4032</td>\n",
       "      <td>4044</td>\n",
       "    </tr>\n",
       "    <tr>\n",
       "      <th>High Graphics</th>\n",
       "      <td>7194</td>\n",
       "      <td>7392</td>\n",
       "      <td>7414</td>\n",
       "    </tr>\n",
       "    <tr>\n",
       "      <th>High Performance</th>\n",
       "      <td>5232</td>\n",
       "      <td>5376</td>\n",
       "      <td>5392</td>\n",
       "    </tr>\n",
       "  </tbody>\n",
       "</table>\n",
       "</div>"
      ],
      "text/plain": [
       "Device                  Console  Mobile    PC\n",
       "GameSettingsPreference                       \n",
       "Balanced                   3924    4032  4044\n",
       "High Graphics              7194    7392  7414\n",
       "High Performance           5232    5376  5392"
      ]
     },
     "metadata": {},
     "output_type": "display_data"
    },
    {
     "data": {
      "text/html": [
       "<b style='font-size: 14px'>Средний рейтинг</b>"
      ],
      "text/plain": [
       "<IPython.core.display.HTML object>"
      ]
     },
     "metadata": {},
     "output_type": "display_data"
    },
    {
     "data": {
      "text/html": [
       "<div>\n",
       "<style scoped>\n",
       "    .dataframe tbody tr th:only-of-type {\n",
       "        vertical-align: middle;\n",
       "    }\n",
       "\n",
       "    .dataframe tbody tr th {\n",
       "        vertical-align: top;\n",
       "    }\n",
       "\n",
       "    .dataframe thead th {\n",
       "        text-align: right;\n",
       "    }\n",
       "</style>\n",
       "<table border=\"1\" class=\"dataframe\">\n",
       "  <thead>\n",
       "    <tr style=\"text-align: right;\">\n",
       "      <th>Device</th>\n",
       "      <th>Console</th>\n",
       "      <th>Mobile</th>\n",
       "      <th>PC</th>\n",
       "    </tr>\n",
       "    <tr>\n",
       "      <th>GameSettingsPreference</th>\n",
       "      <th></th>\n",
       "      <th></th>\n",
       "      <th></th>\n",
       "    </tr>\n",
       "  </thead>\n",
       "  <tbody>\n",
       "    <tr>\n",
       "      <th>Balanced</th>\n",
       "      <td>2.994139</td>\n",
       "      <td>3.001984</td>\n",
       "      <td>3.010386</td>\n",
       "    </tr>\n",
       "    <tr>\n",
       "      <th>High Graphics</th>\n",
       "      <td>2.981790</td>\n",
       "      <td>3.021645</td>\n",
       "      <td>3.004181</td>\n",
       "    </tr>\n",
       "    <tr>\n",
       "      <th>High Performance</th>\n",
       "      <td>2.959098</td>\n",
       "      <td>2.989955</td>\n",
       "      <td>3.036165</td>\n",
       "    </tr>\n",
       "  </tbody>\n",
       "</table>\n",
       "</div>"
      ],
      "text/plain": [
       "Device                   Console    Mobile        PC\n",
       "GameSettingsPreference                              \n",
       "Balanced                2.994139  3.001984  3.010386\n",
       "High Graphics           2.981790  3.021645  3.004181\n",
       "High Performance        2.959098  2.989955  3.036165"
      ]
     },
     "metadata": {},
     "output_type": "display_data"
    },
    {
     "data": {
      "text/html": [
       "<b style='font-size: 14px'>Доля наблюдений с рейтингом 5</b>"
      ],
      "text/plain": [
       "<IPython.core.display.HTML object>"
      ]
     },
     "metadata": {},
     "output_type": "display_data"
    },
    {
     "data": {
      "text/html": [
       "<div>\n",
       "<style scoped>\n",
       "    .dataframe tbody tr th:only-of-type {\n",
       "        vertical-align: middle;\n",
       "    }\n",
       "\n",
       "    .dataframe tbody tr th {\n",
       "        vertical-align: top;\n",
       "    }\n",
       "\n",
       "    .dataframe thead th {\n",
       "        text-align: right;\n",
       "    }\n",
       "</style>\n",
       "<table border=\"1\" class=\"dataframe\">\n",
       "  <thead>\n",
       "    <tr style=\"text-align: right;\">\n",
       "      <th>Device</th>\n",
       "      <th>Console</th>\n",
       "      <th>Mobile</th>\n",
       "      <th>PC</th>\n",
       "    </tr>\n",
       "    <tr>\n",
       "      <th>GameSettingsPreference</th>\n",
       "      <th></th>\n",
       "      <th></th>\n",
       "      <th></th>\n",
       "    </tr>\n",
       "  </thead>\n",
       "  <tbody>\n",
       "    <tr>\n",
       "      <th>Balanced</th>\n",
       "      <td>0.200306</td>\n",
       "      <td>0.200893</td>\n",
       "      <td>0.199060</td>\n",
       "    </tr>\n",
       "    <tr>\n",
       "      <th>High Graphics</th>\n",
       "      <td>0.194746</td>\n",
       "      <td>0.202922</td>\n",
       "      <td>0.197194</td>\n",
       "    </tr>\n",
       "    <tr>\n",
       "      <th>High Performance</th>\n",
       "      <td>0.189220</td>\n",
       "      <td>0.201079</td>\n",
       "      <td>0.210497</td>\n",
       "    </tr>\n",
       "  </tbody>\n",
       "</table>\n",
       "</div>"
      ],
      "text/plain": [
       "Device                   Console    Mobile        PC\n",
       "GameSettingsPreference                              \n",
       "Balanced                0.200306  0.200893  0.199060\n",
       "High Graphics           0.194746  0.202922  0.197194\n",
       "High Performance        0.189220  0.201079  0.210497"
      ]
     },
     "metadata": {},
     "output_type": "display_data"
    }
   ],
   "source": [
    "my_gb = data.groupby([\"GameSettingsPreference\", \"Device\"])\n",
    "\n",
    "display(HTML(\"<b style='font-size: 14px'>Количество наблюдений</b>\"))\n",
    "display(my_gb[\"Rating\"].count().unstack())\n",
    "display(HTML(\"<b style='font-size: 14px'>Средний рейтинг</b>\"))\n",
    "display(my_gb[\"Rating\"].mean().unstack())\n",
    "display(HTML(\"<b style='font-size: 14px'>Доля наблюдений с рейтингом 5</b>\"))\n",
    "display(my_gb[\"Rating\"].apply(lambda sub_col: (sub_col > 4).mean()).unstack())"
   ]
  },
  {
   "cell_type": "markdown",
   "id": "18503ebb-df0c-4bbf-8002-a6b996d415e9",
   "metadata": {},
   "source": [
    "### Решающее дерево"
   ]
  },
  {
   "cell_type": "markdown",
   "id": "bec36920-dd7f-4c9e-a66f-f6914a5e96f2",
   "metadata": {},
   "source": [
    "Предположения опирающиеся на бизнес смысл переменных не дают никакого результата. Пойдем от обратного. Попробуем построить простенькую, легко интерпретируемую модельку и посмотрим на результат. Возьмем, например, не глубокое решающее дерево и попробуем из его решений выловить закономерности. В следующей ячейке подогнано и визуализировано решающее дерево. Похоже, анализ среднего рейтинга нидает никакого внятного результата."
   ]
  },
  {
   "cell_type": "code",
   "execution_count": 6,
   "id": "63488932-4443-459e-bd5b-23a30b5b7b17",
   "metadata": {},
   "outputs": [
    {
     "data": {
      "image/png": "[encoded data removed]",
      "text/plain": [
       "<Figure size 1500x1500 with 1 Axes>"
      ]
     },
     "metadata": {},
     "output_type": "display_data"
    }
   ],
   "source": [
    "X = data.drop([\"UserID\", \"GameTitle\", \"Rating\"], axis = 1)\n",
    "X = pd.get_dummies(X, drop_first=True)\n",
    "y = data[\"Rating\"]\n",
    "\n",
    "clf = tree.DecisionTreeRegressor(max_leaf_nodes = 10)\n",
    "clf.fit(X, y)\n",
    "\n",
    "plt.figure(figsize = [15,15])\n",
    "tree.plot_tree(clf, feature_names=X.columns)\n",
    "plt.show()"
   ]
  },
  {
   "cell_type": "markdown",
   "id": "ff9a0331-0072-44de-8bcd-52580cb5d965",
   "metadata": {},
   "source": [
    "### Предпочтения пользователя\n",
    "\n",
    "Предположим, пользователь играет не первый день (выборка это допускает). Тогда, ему рационально подсовывать игры похожие на те которые раньше он оценивал хорошо."
   ]
  },
  {
   "cell_type": "markdown",
   "id": "cb697655-3efc-465d-b11b-1e2716a9b044",
   "metadata": {},
   "source": [
    "В кочестве примера того, что я имею ввиду рассмотрим средние рейтинги каждого пользователя играм по требованиям игры. Далее представлено как игры разной требовательности в среднем оценивали первый и второй пользователи. Видно, что первый пользователь предпочитает игры которые шустро запускаются на его устройсве. А второй любит игры в которых красивая графика. Так же в контесте именно этой переменной, стоит обратить внимание, что \"Balanced\" игры занимают промежуточное состояние."
   ]
  },
  {
   "cell_type": "code",
   "execution_count": 38,
   "id": "82839822-15da-440a-a70d-12e52a548218",
   "metadata": {},
   "outputs": [
    {
     "data": {
      "text/html": [
       "<div>\n",
       "<style scoped>\n",
       "    .dataframe tbody tr th:only-of-type {\n",
       "        vertical-align: middle;\n",
       "    }\n",
       "\n",
       "    .dataframe tbody tr th {\n",
       "        vertical-align: top;\n",
       "    }\n",
       "\n",
       "    .dataframe thead th {\n",
       "        text-align: right;\n",
       "    }\n",
       "</style>\n",
       "<table border=\"1\" class=\"dataframe\">\n",
       "  <thead>\n",
       "    <tr style=\"text-align: right;\">\n",
       "      <th>UserID</th>\n",
       "      <th>user_1</th>\n",
       "      <th>user_2</th>\n",
       "    </tr>\n",
       "    <tr>\n",
       "      <th>GameSettingsPreference</th>\n",
       "      <th></th>\n",
       "      <th></th>\n",
       "    </tr>\n",
       "  </thead>\n",
       "  <tbody>\n",
       "    <tr>\n",
       "      <th>High Graphics</th>\n",
       "      <td>2.772727</td>\n",
       "      <td>3.227273</td>\n",
       "    </tr>\n",
       "    <tr>\n",
       "      <th>Balanced</th>\n",
       "      <td>3.083333</td>\n",
       "      <td>3.166667</td>\n",
       "    </tr>\n",
       "    <tr>\n",
       "      <th>High Performance</th>\n",
       "      <td>3.500000</td>\n",
       "      <td>2.312500</td>\n",
       "    </tr>\n",
       "  </tbody>\n",
       "</table>\n",
       "</div>"
      ],
      "text/plain": [
       "UserID                    user_1    user_2\n",
       "GameSettingsPreference                    \n",
       "High Graphics           2.772727  3.227273\n",
       "Balanced                3.083333  3.166667\n",
       "High Performance        3.500000  2.312500"
      ]
     },
     "execution_count": 38,
     "metadata": {},
     "output_type": "execute_result"
    }
   ],
   "source": [
    "data.groupby(\n",
    "    [\"GameSettingsPreference\", \"UserID\"]\n",
    ")[\"Rating\"].mean().unstack().loc[\n",
    "    [\"High Graphics\", \"Balanced\", \"High Performance\"]\n",
    "][[\"user_1\", \"user_2\"]]"
   ]
  },
  {
   "cell_type": "markdown",
   "id": "3383c997-0ae7-485b-abeb-b5ee8a7be074",
   "metadata": {},
   "source": [
    "Теперь, попробуем каждому пользователю поставить в сооветсвие тот `GameSettingsPreference` который ему наилучшим образом подходит - получится уже некоторая характеритика пользователя. Поставим в сооветсвие предпочтениям пользователя относительно производительностей игр в которые он играл производетельности игр которые мы потенциально можем ему рекомендовать. "
   ]
  },
  {
   "cell_type": "code",
   "execution_count": 82,
   "id": "1621b348-a6d7-4832-ac6f-0d20eacfadc1",
   "metadata": {},
   "outputs": [
    {
     "data": {
      "text/html": [
       "<b style='font-size: 14px'>Количество наблюдений</b>"
      ],
      "text/plain": [
       "<IPython.core.display.HTML object>"
      ]
     },
     "metadata": {},
     "output_type": "display_data"
    },
    {
     "data": {
      "text/html": [
       "<div>\n",
       "<style scoped>\n",
       "    .dataframe tbody tr th:only-of-type {\n",
       "        vertical-align: middle;\n",
       "    }\n",
       "\n",
       "    .dataframe tbody tr th {\n",
       "        vertical-align: top;\n",
       "    }\n",
       "\n",
       "    .dataframe thead th {\n",
       "        text-align: right;\n",
       "    }\n",
       "</style>\n",
       "<table border=\"1\" class=\"dataframe\">\n",
       "  <thead>\n",
       "    <tr style=\"text-align: right;\">\n",
       "      <th>GameSettingsPreference</th>\n",
       "      <th>Balanced</th>\n",
       "      <th>High Graphics</th>\n",
       "      <th>High Performance</th>\n",
       "    </tr>\n",
       "    <tr>\n",
       "      <th>u_GameSettingsPreference</th>\n",
       "      <th></th>\n",
       "      <th></th>\n",
       "      <th></th>\n",
       "    </tr>\n",
       "  </thead>\n",
       "  <tbody>\n",
       "    <tr>\n",
       "      <th>Balanced</th>\n",
       "      <td>4164</td>\n",
       "      <td>7634</td>\n",
       "      <td>5552</td>\n",
       "    </tr>\n",
       "    <tr>\n",
       "      <th>High Graphics</th>\n",
       "      <td>3912</td>\n",
       "      <td>7172</td>\n",
       "      <td>5216</td>\n",
       "    </tr>\n",
       "    <tr>\n",
       "      <th>High Performance</th>\n",
       "      <td>3924</td>\n",
       "      <td>7194</td>\n",
       "      <td>5232</td>\n",
       "    </tr>\n",
       "  </tbody>\n",
       "</table>\n",
       "</div>"
      ],
      "text/plain": [
       "GameSettingsPreference    Balanced  High Graphics  High Performance\n",
       "u_GameSettingsPreference                                           \n",
       "Balanced                      4164           7634              5552\n",
       "High Graphics                 3912           7172              5216\n",
       "High Performance              3924           7194              5232"
      ]
     },
     "metadata": {},
     "output_type": "display_data"
    },
    {
     "data": {
      "text/html": [
       "<b style='font-size: 14px'>Средний рейтинг</b>"
      ],
      "text/plain": [
       "<IPython.core.display.HTML object>"
      ]
     },
     "metadata": {},
     "output_type": "display_data"
    },
    {
     "data": {
      "text/html": [
       "<div>\n",
       "<style scoped>\n",
       "    .dataframe tbody tr th:only-of-type {\n",
       "        vertical-align: middle;\n",
       "    }\n",
       "\n",
       "    .dataframe tbody tr th {\n",
       "        vertical-align: top;\n",
       "    }\n",
       "\n",
       "    .dataframe thead th {\n",
       "        text-align: right;\n",
       "    }\n",
       "</style>\n",
       "<table border=\"1\" class=\"dataframe\">\n",
       "  <thead>\n",
       "    <tr style=\"text-align: right;\">\n",
       "      <th>GameSettingsPreference</th>\n",
       "      <th>Balanced</th>\n",
       "      <th>High Graphics</th>\n",
       "      <th>High Performance</th>\n",
       "    </tr>\n",
       "    <tr>\n",
       "      <th>u_GameSettingsPreference</th>\n",
       "      <th></th>\n",
       "      <th></th>\n",
       "      <th></th>\n",
       "    </tr>\n",
       "  </thead>\n",
       "  <tbody>\n",
       "    <tr>\n",
       "      <th>Balanced</th>\n",
       "      <td>3.367915</td>\n",
       "      <td>2.903589</td>\n",
       "      <td>2.864733</td>\n",
       "    </tr>\n",
       "    <tr>\n",
       "      <th>High Graphics</th>\n",
       "      <td>2.747188</td>\n",
       "      <td>3.231177</td>\n",
       "      <td>2.801572</td>\n",
       "    </tr>\n",
       "    <tr>\n",
       "      <th>High Performance</th>\n",
       "      <td>2.868502</td>\n",
       "      <td>2.880178</td>\n",
       "      <td>3.327408</td>\n",
       "    </tr>\n",
       "  </tbody>\n",
       "</table>\n",
       "</div>"
      ],
      "text/plain": [
       "GameSettingsPreference    Balanced  High Graphics  High Performance\n",
       "u_GameSettingsPreference                                           \n",
       "Balanced                  3.367915       2.903589          2.864733\n",
       "High Graphics             2.747188       3.231177          2.801572\n",
       "High Performance          2.868502       2.880178          3.327408"
      ]
     },
     "metadata": {},
     "output_type": "display_data"
    },
    {
     "data": {
      "text/html": [
       "<b style='font-size: 14px'>Доля наблюдений с рейтингом 5</b>"
      ],
      "text/plain": [
       "<IPython.core.display.HTML object>"
      ]
     },
     "metadata": {},
     "output_type": "display_data"
    },
    {
     "data": {
      "text/html": [
       "<div>\n",
       "<style scoped>\n",
       "    .dataframe tbody tr th:only-of-type {\n",
       "        vertical-align: middle;\n",
       "    }\n",
       "\n",
       "    .dataframe tbody tr th {\n",
       "        vertical-align: top;\n",
       "    }\n",
       "\n",
       "    .dataframe thead th {\n",
       "        text-align: right;\n",
       "    }\n",
       "</style>\n",
       "<table border=\"1\" class=\"dataframe\">\n",
       "  <thead>\n",
       "    <tr style=\"text-align: right;\">\n",
       "      <th>GameSettingsPreference</th>\n",
       "      <th>Balanced</th>\n",
       "      <th>High Graphics</th>\n",
       "      <th>High Performance</th>\n",
       "    </tr>\n",
       "    <tr>\n",
       "      <th>u_GameSettingsPreference</th>\n",
       "      <th></th>\n",
       "      <th></th>\n",
       "      <th></th>\n",
       "    </tr>\n",
       "  </thead>\n",
       "  <tbody>\n",
       "    <tr>\n",
       "      <th>Balanced</th>\n",
       "      <td>0.272574</td>\n",
       "      <td>0.178150</td>\n",
       "      <td>0.178134</td>\n",
       "    </tr>\n",
       "    <tr>\n",
       "      <th>High Graphics</th>\n",
       "      <td>0.152352</td>\n",
       "      <td>0.246375</td>\n",
       "      <td>0.151265</td>\n",
       "    </tr>\n",
       "    <tr>\n",
       "      <th>High Performance</th>\n",
       "      <td>0.170744</td>\n",
       "      <td>0.171810</td>\n",
       "      <td>0.272936</td>\n",
       "    </tr>\n",
       "  </tbody>\n",
       "</table>\n",
       "</div>"
      ],
      "text/plain": [
       "GameSettingsPreference    Balanced  High Graphics  High Performance\n",
       "u_GameSettingsPreference                                           \n",
       "Balanced                  0.272574       0.178150          0.178134\n",
       "High Graphics             0.152352       0.246375          0.151265\n",
       "High Performance          0.170744       0.171810          0.272936"
      ]
     },
     "metadata": {},
     "output_type": "display_data"
    }
   ],
   "source": [
    "temp = data.copy()\n",
    "\n",
    "u_GameSettingsPreference = data.groupby([\"UserID\"])[[\n",
    "    \"GameSettingsPreference\",\n",
    "    \"Rating\"\n",
    "]].apply(\n",
    "    lambda sub:\n",
    "        sub.groupby(\"GameSettingsPreference\")[\"Rating\"].mean().idxmax()\n",
    ")\n",
    "u_GameSettingsPreference.name = \"u_GameSettingsPreference\"\n",
    "temp = pd.merge(\n",
    "    temp,\n",
    "    user_favorite_performance,\n",
    "    left_on=\"UserID\",\n",
    "    right_index=True\n",
    ")\n",
    "\n",
    "my_gb = temp.groupby([\"u_GameSettingsPreference\", \"GameSettingsPreference\"])\n",
    "\n",
    "display(HTML(\"<b style='font-size: 14px'>Количество наблюдений</b>\"))\n",
    "display(my_gb[\"Rating\"].count().unstack())\n",
    "display(HTML(\"<b style='font-size: 14px'>Средний рейтинг</b>\"))\n",
    "display(my_gb[\"Rating\"].mean().unstack())\n",
    "display(HTML(\"<b style='font-size: 14px'>Доля наблюдений с рейтингом 5</b>\"))\n",
    "display(my_gb[\"Rating\"].apply(lambda sub_col: (sub_col > 4).mean()).unstack())"
   ]
  },
  {
   "cell_type": "markdown",
   "id": "124e5336-6a6e-4ea8-8dd4-0ac9a05f4d2c",
   "metadata": {},
   "source": [
    "На гланых диоганалях некоторых из табличек наметился некоторый рост статистик описывающих шанс того что пользователь поставит статистику той или иной игре повыше. Уже что-то, но, конечно, такой подход серьезно подвержен переобучению, поэтому оценка наиболее предпочтительных свойств игр для пользователя должна производится на тестовой выборке."
   ]
  },
  {
   "cell_type": "markdown",
   "id": "fe270cdf-7100-4e41-a49b-5fcfabf58017",
   "metadata": {},
   "source": [
    "## Выбор переменных"
   ]
  },
  {
   "cell_type": "code",
   "execution_count": 7,
   "id": "1d5318fc-de8c-4fb6-80eb-f9f334df97d9",
   "metadata": {},
   "outputs": [
    {
     "data": {
      "text/html": [
       "<div>\n",
       "<style scoped>\n",
       "    .dataframe tbody tr th:only-of-type {\n",
       "        vertical-align: middle;\n",
       "    }\n",
       "\n",
       "    .dataframe tbody tr th {\n",
       "        vertical-align: top;\n",
       "    }\n",
       "\n",
       "    .dataframe thead th {\n",
       "        text-align: right;\n",
       "    }\n",
       "</style>\n",
       "<table border=\"1\" class=\"dataframe\">\n",
       "  <thead>\n",
       "    <tr style=\"text-align: right;\">\n",
       "      <th></th>\n",
       "      <th>Rating</th>\n",
       "      <th>Age</th>\n",
       "      <th>TotalPlaytimeInHours</th>\n",
       "      <th>LoadingTimeInSeconds</th>\n",
       "    </tr>\n",
       "  </thead>\n",
       "  <tbody>\n",
       "    <tr>\n",
       "      <th>count</th>\n",
       "      <td>50000.000000</td>\n",
       "      <td>50000.000000</td>\n",
       "      <td>50000.000000</td>\n",
       "      <td>50000.000000</td>\n",
       "    </tr>\n",
       "    <tr>\n",
       "      <th>mean</th>\n",
       "      <td>3.000280</td>\n",
       "      <td>40.059000</td>\n",
       "      <td>96.810000</td>\n",
       "      <td>53.480000</td>\n",
       "    </tr>\n",
       "    <tr>\n",
       "      <th>std</th>\n",
       "      <td>1.413591</td>\n",
       "      <td>17.501418</td>\n",
       "      <td>93.622771</td>\n",
       "      <td>30.114245</td>\n",
       "    </tr>\n",
       "    <tr>\n",
       "      <th>min</th>\n",
       "      <td>1.000000</td>\n",
       "      <td>10.000000</td>\n",
       "      <td>1.000000</td>\n",
       "      <td>11.000000</td>\n",
       "    </tr>\n",
       "    <tr>\n",
       "      <th>25%</th>\n",
       "      <td>2.000000</td>\n",
       "      <td>25.000000</td>\n",
       "      <td>11.000000</td>\n",
       "      <td>30.000000</td>\n",
       "    </tr>\n",
       "    <tr>\n",
       "      <th>50%</th>\n",
       "      <td>3.000000</td>\n",
       "      <td>40.000000</td>\n",
       "      <td>50.000000</td>\n",
       "      <td>51.000000</td>\n",
       "    </tr>\n",
       "    <tr>\n",
       "      <th>75%</th>\n",
       "      <td>4.000000</td>\n",
       "      <td>55.000000</td>\n",
       "      <td>177.000000</td>\n",
       "      <td>76.000000</td>\n",
       "    </tr>\n",
       "    <tr>\n",
       "      <th>max</th>\n",
       "      <td>5.000000</td>\n",
       "      <td>70.000000</td>\n",
       "      <td>299.000000</td>\n",
       "      <td>117.000000</td>\n",
       "    </tr>\n",
       "  </tbody>\n",
       "</table>\n",
       "</div>"
      ],
      "text/plain": [
       "             Rating           Age  TotalPlaytimeInHours  LoadingTimeInSeconds\n",
       "count  50000.000000  50000.000000          50000.000000          50000.000000\n",
       "mean       3.000280     40.059000             96.810000             53.480000\n",
       "std        1.413591     17.501418             93.622771             30.114245\n",
       "min        1.000000     10.000000              1.000000             11.000000\n",
       "25%        2.000000     25.000000             11.000000             30.000000\n",
       "50%        3.000000     40.000000             50.000000             51.000000\n",
       "75%        4.000000     55.000000            177.000000             76.000000\n",
       "max        5.000000     70.000000            299.000000            117.000000"
      ]
     },
     "execution_count": 7,
     "metadata": {},
     "output_type": "execute_result"
    }
   ],
   "source": [
    "data.select_dtypes(\"number\").describe()"
   ]
  },
  {
   "cell_type": "code",
   "execution_count": 8,
   "id": "9c1ec349-f817-4496-8e39-6193007857fb",
   "metadata": {},
   "outputs": [
    {
     "data": {
      "text/html": [
       "<div>\n",
       "<style scoped>\n",
       "    .dataframe tbody tr th:only-of-type {\n",
       "        vertical-align: middle;\n",
       "    }\n",
       "\n",
       "    .dataframe tbody tr th {\n",
       "        vertical-align: top;\n",
       "    }\n",
       "\n",
       "    .dataframe thead th {\n",
       "        text-align: right;\n",
       "    }\n",
       "</style>\n",
       "<table border=\"1\" class=\"dataframe\">\n",
       "  <thead>\n",
       "    <tr style=\"text-align: right;\">\n",
       "      <th></th>\n",
       "      <th>UserID</th>\n",
       "      <th>GameTitle</th>\n",
       "      <th>Gender</th>\n",
       "      <th>Location</th>\n",
       "      <th>Device</th>\n",
       "      <th>PlayTimeOfDay</th>\n",
       "      <th>PurchaseHistory</th>\n",
       "      <th>InvolvementLevel</th>\n",
       "      <th>UserReview</th>\n",
       "      <th>GameGenre</th>\n",
       "      <th>GameUpdateFrequency</th>\n",
       "      <th>SocialActivity</th>\n",
       "      <th>GameSettingsPreference</th>\n",
       "    </tr>\n",
       "  </thead>\n",
       "  <tbody>\n",
       "    <tr>\n",
       "      <th>count</th>\n",
       "      <td>50000</td>\n",
       "      <td>50000</td>\n",
       "      <td>50000</td>\n",
       "      <td>50000</td>\n",
       "      <td>50000</td>\n",
       "      <td>50000</td>\n",
       "      <td>50000</td>\n",
       "      <td>50000</td>\n",
       "      <td>50000</td>\n",
       "      <td>50000</td>\n",
       "      <td>50000</td>\n",
       "      <td>50000</td>\n",
       "      <td>50000</td>\n",
       "    </tr>\n",
       "    <tr>\n",
       "      <th>unique</th>\n",
       "      <td>1000</td>\n",
       "      <td>50</td>\n",
       "      <td>3</td>\n",
       "      <td>6</td>\n",
       "      <td>3</td>\n",
       "      <td>4</td>\n",
       "      <td>2</td>\n",
       "      <td>4</td>\n",
       "      <td>3</td>\n",
       "      <td>7</td>\n",
       "      <td>3</td>\n",
       "      <td>3</td>\n",
       "      <td>3</td>\n",
       "    </tr>\n",
       "    <tr>\n",
       "      <th>top</th>\n",
       "      <td>user_1000</td>\n",
       "      <td>game_1</td>\n",
       "      <td>Female</td>\n",
       "      <td>South America</td>\n",
       "      <td>PC</td>\n",
       "      <td>Night</td>\n",
       "      <td>No</td>\n",
       "      <td>Expert</td>\n",
       "      <td>Positive</td>\n",
       "      <td>Adventure</td>\n",
       "      <td>Occasional</td>\n",
       "      <td>Active</td>\n",
       "      <td>High Graphics</td>\n",
       "    </tr>\n",
       "    <tr>\n",
       "      <th>freq</th>\n",
       "      <td>50</td>\n",
       "      <td>1000</td>\n",
       "      <td>18250</td>\n",
       "      <td>9100</td>\n",
       "      <td>16850</td>\n",
       "      <td>19450</td>\n",
       "      <td>34600</td>\n",
       "      <td>13300</td>\n",
       "      <td>17600</td>\n",
       "      <td>11000</td>\n",
       "      <td>18000</td>\n",
       "      <td>22000</td>\n",
       "      <td>22000</td>\n",
       "    </tr>\n",
       "  </tbody>\n",
       "</table>\n",
       "</div>"
      ],
      "text/plain": [
       "           UserID GameTitle  Gender       Location Device PlayTimeOfDay  \\\n",
       "count       50000     50000   50000          50000  50000         50000   \n",
       "unique       1000        50       3              6      3             4   \n",
       "top     user_1000    game_1  Female  South America     PC         Night   \n",
       "freq           50      1000   18250           9100  16850         19450   \n",
       "\n",
       "       PurchaseHistory InvolvementLevel UserReview  GameGenre  \\\n",
       "count            50000            50000      50000      50000   \n",
       "unique               2                4          3          7   \n",
       "top                 No           Expert   Positive  Adventure   \n",
       "freq             34600            13300      17600      11000   \n",
       "\n",
       "       GameUpdateFrequency SocialActivity GameSettingsPreference  \n",
       "count                50000          50000                  50000  \n",
       "unique                   3              3                      3  \n",
       "top             Occasional         Active          High Graphics  \n",
       "freq                 18000          22000                  22000  "
      ]
     },
     "execution_count": 8,
     "metadata": {},
     "output_type": "execute_result"
    }
   ],
   "source": [
    "data.select_dtypes(\"O\").describe()"
   ]
  },
  {
   "cell_type": "markdown",
   "id": "9c9ba4f1-7ede-488a-8d55-7e803d99e50c",
   "metadata": {},
   "source": [
    "## Контентный подход"
   ]
  },
  {
   "cell_type": "code",
   "execution_count": 60,
   "id": "9b9e84f7-78ad-44f6-81b8-676e75d4ff2b",
   "metadata": {
    "scrolled": true
   },
   "outputs": [],
   "source": [
    "model = CatBoostRegressor(\n",
    "    cat_features=X.select_dtypes(\"O\").columns.to_list(),\n",
    "    random_state=11,\n",
    "    silent = True\n",
    ").fit(X_train, y_train)"
   ]
  },
  {
   "cell_type": "code",
   "execution_count": 62,
   "id": "231c36c4-98ed-4822-88e6-5737d069f220",
   "metadata": {},
   "outputs": [],
   "source": [
    "predict_test = pd.Series(model.predict(X_test), index=X_test.index)\n",
    "predict_train = pd.Series(model.predict(X_train), index=X_train.index)"
   ]
  },
  {
   "cell_type": "code",
   "execution_count": 63,
   "id": "94936d7b-f3ac-4eb6-8766-25ce1cca52e5",
   "metadata": {},
   "outputs": [
    {
     "data": {
      "image/png": "[encoded data removed]",
      "text/plain": [
       "<Figure size 640x480 with 1 Axes>"
      ]
     },
     "metadata": {},
     "output_type": "display_data"
    }
   ],
   "source": [
    "temp = data.loc[X_test.index, [\"UserID\", \"GameTitle\", \"Rating\"]]\n",
    "temp[\"predict\"] = predict_test\n",
    "\n",
    "sns.boxplot(\n",
    "    data = temp,\n",
    "    x = \"Rating\",\n",
    "    y = \"predict\"\n",
    ")\n",
    "\n",
    "del temp"
   ]
  },
  {
   "cell_type": "code",
   "execution_count": 65,
   "id": "09213152-aa09-46a7-acf3-12f3a82a0879",
   "metadata": {},
   "outputs": [
    {
     "data": {
      "image/png": "[encoded data removed]",
      "text/plain": [
       "<Figure size 640x480 with 1 Axes>"
      ]
     },
     "metadata": {},
     "output_type": "display_data"
    }
   ],
   "source": [
    "temp = data.loc[X_train.index, [\"UserID\", \"GameTitle\", \"Rating\"]]\n",
    "temp[\"predict\"] = predict_train\n",
    "\n",
    "sns.boxplot(\n",
    "    data = temp,\n",
    "    x = \"Rating\",\n",
    "    y = \"predict\"\n",
    ")\n",
    "\n",
    "del temp"
   ]
  }
 ],
 "metadata": {
  "kernelspec": {
   "display_name": "Python 3 (ipykernel)",
   "language": "python",
   "name": "python3"
  },
  "language_info": {
   "codemirror_mode": {
    "name": "ipython",
    "version": 3
   },
   "file_extension": ".py",
   "mimetype": "text/x-python",
   "name": "python",
   "nbconvert_exporter": "python",
   "pygments_lexer": "ipython3",
   "version": "3.10.12"
  }
 },
 "nbformat": 4,
 "nbformat_minor": 5
}
